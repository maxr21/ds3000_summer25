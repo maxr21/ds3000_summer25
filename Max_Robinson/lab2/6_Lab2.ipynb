{
 "cells": [
  {
   "cell_type": "markdown",
   "metadata": {},
   "source": [
    "# DS 3000 Lab 2\n",
    "\n",
    "Due: Tuesday May 20 in-class\n",
    "\n",
    "### Submission Instructions\n",
    "Upload this `ipynb` file to GitHub, and then to Gradescope.  To ensure that your submitted `ipynb` file represents your latest code, make sure to give a fresh `Kernel > Restart & Run All` just before uploading the `ipynb` file to GitHub and verify that the correct version is represented on Gradescope.\n",
    "\n",
    "### Tips for success\n",
    "- Collaborate: bounce ideas off of each other, if you are having trouble you can ask your classmates or Dr. Gerber for help with specific issues, however...\n",
    "- [(See)](http://www.northeastern.edu/osccr/academic-integrity), i.e. you are welcome to **talk about/discuss** (*not* show or allow each other to copy your answers to) the problems."
   ]
  },
  {
   "cell_type": "code",
   "execution_count": 1,
   "metadata": {},
   "outputs": [],
   "source": [
    "# you may want to use the below modules on this lab\n",
    "import warnings\n",
    "warnings.simplefilter(action='ignore', category=FutureWarning)\n",
    "\n",
    "import requests\n",
    "from datetime import datetime\n",
    "import pandas as pd\n",
    "import matplotlib.pyplot as plt\n",
    "import plotly.express as px\n",
    "from bs4 import BeautifulSoup\n",
    "from itertools import zip_longest\n",
    "import re"
   ]
  },
  {
   "cell_type": "markdown",
   "metadata": {},
   "source": [
    "# Web Scraping EuroMillions Results\n",
    "\n",
    "For this problem, we will (together) create a small data set scraped from [Euro-Millions](https://www.euro-millions.com/) which is a lottery that is played across nine European countries. Draws take place on Tuesday and Friday evenings with a minimum guaranteed jackpot of â‚¬17 million."
   ]
  },
  {
   "cell_type": "markdown",
   "metadata": {},
   "source": [
    "## Part 1: The Scraper Function (20 points)\n",
    "\n",
    "Complete the function `get_lottery_html()` below (including docstring) which visits the lottery results for a specific date and grabs the html. Visit [the website](https://www.euro-millions.com/results/) to select a date or two and notice the pattern in the url so that you can pass any date to the function as a string. \n",
    "\n",
    "**Make sure to remove the `pass` statement when you are finished**. I have written the code you should run once the function is completed, getting the lottery results from the last day in April."
   ]
  },
  {
   "cell_type": "code",
   "execution_count": 2,
   "metadata": {},
   "outputs": [],
   "source": [
    "def get_lottery_html(code):\n",
    "    \"\"\" gets the html of the website as a string\n",
    "\n",
    "        Args: code (str) is the date to access\n",
    "\n",
    "        returns: code (str) is the html\n",
    "    \"\"\"\n",
    "\n",
    "    url = f\"https://www.euro-millions.com/results/{code}\"\n",
    "\n",
    "    html = requests.get(url).text\n",
    "\n",
    "    return html\n"
   ]
  },
  {
   "cell_type": "code",
   "execution_count": 3,
   "metadata": {},
   "outputs": [],
   "source": [
    "# when you are done the following code should be run\n",
    "url_text = get_lottery_html('29-04-2025')"
   ]
  },
  {
   "cell_type": "markdown",
   "metadata": {},
   "source": [
    "## Part 2: The Soup Function (20 points)\n",
    "\n",
    "Complete the function `get_country_soup()` below (including docstring) which takes the html from the previous function and outputs one of nine beautiful soup objects, depending on the country you are interested in as defined by the `'id'` attribute:\n",
    "\n",
    "    - `id='PrizeAT'` (Austria)\n",
    "    - `id='PrizeBE'` (Belgium)\n",
    "    - `id='PrizeFR'` (France)\n",
    "    - `id='PrizeIE'` (Ireland)\n",
    "    - `id='PrizeLU'` (Luxembourg)\n",
    "    - `id='PrizePT'` (Portugal)\n",
    "    - `id='PrizeES'` (Spain)\n",
    "    - `id='PrizeCH'` (Switzerland)\n",
    "    - `id='PrizeGB'` (UK)\n",
    "    \n",
    "The function should take two arguments: the html object from `get_lottery_html()` and a string that specifies the `id` you are interested in (by default, Belgium or `BE`).\n",
    "    \n",
    "**Make sure to remove the `pass` statement when you are finished.** Then, also make sure to run the code to ensure your function works."
   ]
  },
  {
   "cell_type": "code",
   "execution_count": 4,
   "metadata": {},
   "outputs": [],
   "source": [
    "def get_country_soup(html, country):\n",
    "    \"\"\"\n",
    "        Args: \n",
    "            id (str): the country id\n",
    "            html (str): the html\n",
    "        returns: \n",
    "            relevant[0] (soup): beautiful soup object. \n",
    "    \"\"\"\n",
    "    soup = BeautifulSoup(html)\n",
    "    relevant = soup.find_all('div', id=f\"Prize{country}\")\n",
    "    \n",
    "    return relevant[0]\n"
   ]
  },
  {
   "cell_type": "code",
   "execution_count": 5,
   "metadata": {},
   "outputs": [
    {
     "data": {
      "text/plain": [
       "<div id=\"PrizeBE\">\n",
       "<table class=\"mobFormat\">\n",
       "<thead>\n",
       "<tr>\n",
       "<th>Numbers Matched</th>\n",
       "<th class=\"righty\">Prize Per Winner</th>\n",
       "<th class=\"righty\">Belgian Winners</th>\n",
       "<th class=\"righty\">Prize Fund Amount</th>\n",
       "<th class=\"righty\">Total Winners</th>\n",
       "</tr>\n",
       "</thead>\n",
       "<tbody>\n",
       "<tr>\n",
       "<td class=\"colour\" data-title=\"Numbers Matched\">\n",
       "<span class=\"prizeName\"><span class=\"ball\">5 </span> + <span class=\"star\"> 2</span></span>\n",
       "</td>\n",
       "<td class=\"righty\" data-title=\"Prize Per Winner\">\n",
       "\t\t\t\t\t\t\t\t\t\t\t€83,786,486.80\n",
       "\t\t\t\t\t\t\t\t\t\t\t\n",
       "\t\t\t\t\t\t\t\t\t\t</td>\n",
       "<td class=\"righty\" data-title=\"Belgian Winners\">\n",
       "\t\t\t\t\t\t\t\t\t\t\t\t0\n",
       "\t\t\t\t\t\t\t\t\t\t\t\t\n",
       "\t\t\t\t\t\t\t\t\t\t\t</td>\n",
       "<td class=\"righty\" data-title=\"Prize Fund Amount\">\n",
       "\t\t\t\t\t\t\t\t\t\t\t\t€0.00\n",
       "\t\t\t\t\t\t\t\t\t\t\t\t\n",
       "\t\t\t\t\t\t\t\t\t\t\t</td>\n",
       "<td class=\"righty\" data-title=\"Total Winners\">\n",
       "<strong style=\"color:#F00\">Rollover!</strong> \n",
       "\t\t\t\t\t\t\t\t\t\t\t\t0\n",
       "\t\t\t\t\t\t\t\t\t\t\t\t\n",
       "\t\t\t\t\t\t\t\t\t\t</td>\n",
       "</tr>\n",
       "<tr>\n",
       "<td class=\"colour\" data-title=\"Numbers Matched\">\n",
       "<span class=\"prizeName\"><span class=\"ball\">5 </span> + <span class=\"star\"> 1</span></span>\n",
       "</td>\n",
       "<td class=\"righty\" data-title=\"Prize Per Winner\">\n",
       "\t\t\t\t\t\t\t\t\t\t\t€0.00\n",
       "\t\t\t\t\t\t\t\t\t\t\t\n",
       "\t\t\t\t\t\t\t\t\t\t</td>\n",
       "<td class=\"righty\" data-title=\"Belgian Winners\">\n",
       "\t\t\t\t\t\t\t\t\t\t\t\t0\n",
       "\t\t\t\t\t\t\t\t\t\t\t\t\n",
       "\t\t\t\t\t\t\t\t\t\t\t</td>\n",
       "<td class=\"righty\" data-title=\"Prize Fund Amount\">\n",
       "\t\t\t\t\t\t\t\t\t\t\t\t€0.00\n",
       "\t\t\t\t\t\t\t\t\t\t\t\t\n",
       "\t\t\t\t\t\t\t\t\t\t\t</td>\n",
       "<td class=\"righty\" data-title=\"Total Winners\">\n",
       "\t\t\t\t\t\t\t\t\t\t\t0\n",
       "\t\t\t\t\t\t\t\t\t\t\t\t\n",
       "\t\t\t\t\t\t\t\t\t\t</td>\n",
       "</tr>\n",
       "<tr>\n",
       "<td class=\"colour\" data-title=\"Numbers Matched\">\n",
       "<span class=\"prizeName\"><span class=\"ball\">5</span></span>\n",
       "</td>\n",
       "<td class=\"righty\" data-title=\"Prize Per Winner\">\n",
       "\t\t\t\t\t\t\t\t\t\t\t€65,420.20\n",
       "\t\t\t\t\t\t\t\t\t\t\t\n",
       "\t\t\t\t\t\t\t\t\t\t</td>\n",
       "<td class=\"righty\" data-title=\"Belgian Winners\">\n",
       "\t\t\t\t\t\t\t\t\t\t\t\t3\n",
       "\t\t\t\t\t\t\t\t\t\t\t\t\n",
       "\t\t\t\t\t\t\t\t\t\t\t</td>\n",
       "<td class=\"righty\" data-title=\"Prize Fund Amount\">\n",
       "\t\t\t\t\t\t\t\t\t\t\t\t€196,260.60\n",
       "\t\t\t\t\t\t\t\t\t\t\t\t\n",
       "\t\t\t\t\t\t\t\t\t\t\t</td>\n",
       "<td class=\"righty\" data-title=\"Total Winners\">\n",
       "\t\t\t\t\t\t\t\t\t\t\t11\n",
       "\t\t\t\t\t\t\t\t\t\t\t\t\n",
       "\t\t\t\t\t\t\t\t\t\t</td>\n",
       "</tr>\n",
       "<tr>\n",
       "<td class=\"colour\" data-title=\"Numbers Matched\">\n",
       "<span class=\"prizeName\"><span class=\"ball\">4 </span> + <span class=\"star\"> 2</span></span>\n",
       "</td>\n",
       "<td class=\"righty\" data-title=\"Prize Per Winner\">\n",
       "\t\t\t\t\t\t\t\t\t\t\t€1,326.90\n",
       "\t\t\t\t\t\t\t\t\t\t\t\n",
       "\t\t\t\t\t\t\t\t\t\t</td>\n",
       "<td class=\"righty\" data-title=\"Belgian Winners\">\n",
       "\t\t\t\t\t\t\t\t\t\t\t\t4\n",
       "\t\t\t\t\t\t\t\t\t\t\t\t\n",
       "\t\t\t\t\t\t\t\t\t\t\t</td>\n",
       "<td class=\"righty\" data-title=\"Prize Fund Amount\">\n",
       "\t\t\t\t\t\t\t\t\t\t\t\t€5,307.60\n",
       "\t\t\t\t\t\t\t\t\t\t\t\t\n",
       "\t\t\t\t\t\t\t\t\t\t\t</td>\n",
       "<td class=\"righty\" data-title=\"Total Winners\">\n",
       "\t\t\t\t\t\t\t\t\t\t\t32\n",
       "\t\t\t\t\t\t\t\t\t\t\t\t\n",
       "\t\t\t\t\t\t\t\t\t\t</td>\n",
       "</tr>\n",
       "<tr>\n",
       "<td class=\"colour\" data-title=\"Numbers Matched\">\n",
       "<span class=\"prizeName\"><span class=\"ball\">4 </span> + <span class=\"star\"> 1</span></span>\n",
       "</td>\n",
       "<td class=\"righty\" data-title=\"Prize Per Winner\">\n",
       "\t\t\t\t\t\t\t\t\t\t\t€129.20\n",
       "\t\t\t\t\t\t\t\t\t\t\t\n",
       "\t\t\t\t\t\t\t\t\t\t</td>\n",
       "<td class=\"righty\" data-title=\"Belgian Winners\">\n",
       "\t\t\t\t\t\t\t\t\t\t\t\t54\n",
       "\t\t\t\t\t\t\t\t\t\t\t\t\n",
       "\t\t\t\t\t\t\t\t\t\t\t</td>\n",
       "<td class=\"righty\" data-title=\"Prize Fund Amount\">\n",
       "\t\t\t\t\t\t\t\t\t\t\t\t€6,976.80\n",
       "\t\t\t\t\t\t\t\t\t\t\t\t\n",
       "\t\t\t\t\t\t\t\t\t\t\t</td>\n",
       "<td class=\"righty\" data-title=\"Total Winners\">\n",
       "\t\t\t\t\t\t\t\t\t\t\t605\n",
       "\t\t\t\t\t\t\t\t\t\t\t\t\n",
       "\t\t\t\t\t\t\t\t\t\t</td>\n",
       "</tr>\n",
       "<tr>\n",
       "<td class=\"colour\" data-title=\"Numbers Matched\">\n",
       "<span class=\"prizeName\"><span class=\"ball\">3 </span> + <span class=\"star\"> 2</span></span>\n",
       "</td>\n",
       "<td class=\"righty\" data-title=\"Prize Per Winner\">\n",
       "\t\t\t\t\t\t\t\t\t\t\t€71.50\n",
       "\t\t\t\t\t\t\t\t\t\t\t\n",
       "\t\t\t\t\t\t\t\t\t\t</td>\n",
       "<td class=\"righty\" data-title=\"Belgian Winners\">\n",
       "\t\t\t\t\t\t\t\t\t\t\t\t107\n",
       "\t\t\t\t\t\t\t\t\t\t\t\t\n",
       "\t\t\t\t\t\t\t\t\t\t\t</td>\n",
       "<td class=\"righty\" data-title=\"Prize Fund Amount\">\n",
       "\t\t\t\t\t\t\t\t\t\t\t\t€7,650.50\n",
       "\t\t\t\t\t\t\t\t\t\t\t\t\n",
       "\t\t\t\t\t\t\t\t\t\t\t</td>\n",
       "<td class=\"righty\" data-title=\"Total Winners\">\n",
       "\t\t\t\t\t\t\t\t\t\t\t1,156\n",
       "\t\t\t\t\t\t\t\t\t\t\t\t\n",
       "\t\t\t\t\t\t\t\t\t\t</td>\n",
       "</tr>\n",
       "<tr>\n",
       "<td class=\"colour\" data-title=\"Numbers Matched\">\n",
       "<span class=\"prizeName\"><span class=\"ball\">4</span></span>\n",
       "</td>\n",
       "<td class=\"righty\" data-title=\"Prize Per Winner\">\n",
       "\t\t\t\t\t\t\t\t\t\t\t€38.60\n",
       "\t\t\t\t\t\t\t\t\t\t\t\n",
       "\t\t\t\t\t\t\t\t\t\t</td>\n",
       "<td class=\"righty\" data-title=\"Belgian Winners\">\n",
       "\t\t\t\t\t\t\t\t\t\t\t\t107\n",
       "\t\t\t\t\t\t\t\t\t\t\t\t\n",
       "\t\t\t\t\t\t\t\t\t\t\t</td>\n",
       "<td class=\"righty\" data-title=\"Prize Fund Amount\">\n",
       "\t\t\t\t\t\t\t\t\t\t\t\t€4,130.20\n",
       "\t\t\t\t\t\t\t\t\t\t\t\t\n",
       "\t\t\t\t\t\t\t\t\t\t\t</td>\n",
       "<td class=\"righty\" data-title=\"Total Winners\">\n",
       "\t\t\t\t\t\t\t\t\t\t\t1,502\n",
       "\t\t\t\t\t\t\t\t\t\t\t\t\n",
       "\t\t\t\t\t\t\t\t\t\t</td>\n",
       "</tr>\n",
       "<tr>\n",
       "<td class=\"colour\" data-title=\"Numbers Matched\">\n",
       "<span class=\"prizeName\"><span class=\"ball\">2 </span> + <span class=\"star\"> 2</span></span>\n",
       "</td>\n",
       "<td class=\"righty\" data-title=\"Prize Per Winner\">\n",
       "\t\t\t\t\t\t\t\t\t\t\t€17.20\n",
       "\t\t\t\t\t\t\t\t\t\t\t\n",
       "\t\t\t\t\t\t\t\t\t\t</td>\n",
       "<td class=\"righty\" data-title=\"Belgian Winners\">\n",
       "\t\t\t\t\t\t\t\t\t\t\t\t1,301\n",
       "\t\t\t\t\t\t\t\t\t\t\t\t\n",
       "\t\t\t\t\t\t\t\t\t\t\t</td>\n",
       "<td class=\"righty\" data-title=\"Prize Fund Amount\">\n",
       "\t\t\t\t\t\t\t\t\t\t\t\t€22,377.20\n",
       "\t\t\t\t\t\t\t\t\t\t\t\t\n",
       "\t\t\t\t\t\t\t\t\t\t\t</td>\n",
       "<td class=\"righty\" data-title=\"Total Winners\">\n",
       "\t\t\t\t\t\t\t\t\t\t\t16,848\n",
       "\t\t\t\t\t\t\t\t\t\t\t\t\n",
       "\t\t\t\t\t\t\t\t\t\t</td>\n",
       "</tr>\n",
       "<tr>\n",
       "<td class=\"colour\" data-title=\"Numbers Matched\">\n",
       "<span class=\"prizeName\"><span class=\"ball\">3 </span> + <span class=\"star\"> 1</span></span>\n",
       "</td>\n",
       "<td class=\"righty\" data-title=\"Prize Per Winner\">\n",
       "\t\t\t\t\t\t\t\t\t\t\t€12.50\n",
       "\t\t\t\t\t\t\t\t\t\t\t\n",
       "\t\t\t\t\t\t\t\t\t\t</td>\n",
       "<td class=\"righty\" data-title=\"Belgian Winners\">\n",
       "\t\t\t\t\t\t\t\t\t\t\t\t1,904\n",
       "\t\t\t\t\t\t\t\t\t\t\t\t\n",
       "\t\t\t\t\t\t\t\t\t\t\t</td>\n",
       "<td class=\"righty\" data-title=\"Prize Fund Amount\">\n",
       "\t\t\t\t\t\t\t\t\t\t\t\t€23,800.00\n",
       "\t\t\t\t\t\t\t\t\t\t\t\t\n",
       "\t\t\t\t\t\t\t\t\t\t\t</td>\n",
       "<td class=\"righty\" data-title=\"Total Winners\">\n",
       "\t\t\t\t\t\t\t\t\t\t\t25,854\n",
       "\t\t\t\t\t\t\t\t\t\t\t\t\n",
       "\t\t\t\t\t\t\t\t\t\t</td>\n",
       "</tr>\n",
       "<tr>\n",
       "<td class=\"colour\" data-title=\"Numbers Matched\">\n",
       "<span class=\"prizeName\"><span class=\"ball\">3</span></span>\n",
       "</td>\n",
       "<td class=\"righty\" data-title=\"Prize Per Winner\">\n",
       "\t\t\t\t\t\t\t\t\t\t\t€8.90\n",
       "\t\t\t\t\t\t\t\t\t\t\t\n",
       "\t\t\t\t\t\t\t\t\t\t</td>\n",
       "<td class=\"righty\" data-title=\"Belgian Winners\">\n",
       "\t\t\t\t\t\t\t\t\t\t\t\t4,780\n",
       "\t\t\t\t\t\t\t\t\t\t\t\t\n",
       "\t\t\t\t\t\t\t\t\t\t\t</td>\n",
       "<td class=\"righty\" data-title=\"Prize Fund Amount\">\n",
       "\t\t\t\t\t\t\t\t\t\t\t\t€42,542.00\n",
       "\t\t\t\t\t\t\t\t\t\t\t\t\n",
       "\t\t\t\t\t\t\t\t\t\t\t</td>\n",
       "<td class=\"righty\" data-title=\"Total Winners\">\n",
       "\t\t\t\t\t\t\t\t\t\t\t67,339\n",
       "\t\t\t\t\t\t\t\t\t\t\t\t\n",
       "\t\t\t\t\t\t\t\t\t\t</td>\n",
       "</tr>\n",
       "<tr>\n",
       "<td class=\"colour\" data-title=\"Numbers Matched\">\n",
       "<span class=\"prizeName\"><span class=\"ball\">1 </span> + <span class=\"star\"> 2</span></span>\n",
       "</td>\n",
       "<td class=\"righty\" data-title=\"Prize Per Winner\">\n",
       "\t\t\t\t\t\t\t\t\t\t\t€8.20\n",
       "\t\t\t\t\t\t\t\t\t\t\t\n",
       "\t\t\t\t\t\t\t\t\t\t</td>\n",
       "<td class=\"righty\" data-title=\"Belgian Winners\">\n",
       "\t\t\t\t\t\t\t\t\t\t\t\t6,583\n",
       "\t\t\t\t\t\t\t\t\t\t\t\t\n",
       "\t\t\t\t\t\t\t\t\t\t\t</td>\n",
       "<td class=\"righty\" data-title=\"Prize Fund Amount\">\n",
       "\t\t\t\t\t\t\t\t\t\t\t\t€53,980.60\n",
       "\t\t\t\t\t\t\t\t\t\t\t\t\n",
       "\t\t\t\t\t\t\t\t\t\t\t</td>\n",
       "<td class=\"righty\" data-title=\"Total Winners\">\n",
       "\t\t\t\t\t\t\t\t\t\t\t89,036\n",
       "\t\t\t\t\t\t\t\t\t\t\t\t\n",
       "\t\t\t\t\t\t\t\t\t\t</td>\n",
       "</tr>\n",
       "<tr>\n",
       "<td class=\"colour\" data-title=\"Numbers Matched\">\n",
       "<span class=\"prizeName\"><span class=\"ball\">2 </span> + <span class=\"star\"> 1</span></span>\n",
       "</td>\n",
       "<td class=\"righty\" data-title=\"Prize Per Winner\">\n",
       "\t\t\t\t\t\t\t\t\t\t\t€6.10\n",
       "\t\t\t\t\t\t\t\t\t\t\t\n",
       "\t\t\t\t\t\t\t\t\t\t</td>\n",
       "<td class=\"righty\" data-title=\"Belgian Winners\">\n",
       "\t\t\t\t\t\t\t\t\t\t\t\t27,025\n",
       "\t\t\t\t\t\t\t\t\t\t\t\t\n",
       "\t\t\t\t\t\t\t\t\t\t\t</td>\n",
       "<td class=\"righty\" data-title=\"Prize Fund Amount\">\n",
       "\t\t\t\t\t\t\t\t\t\t\t\t€164,852.50\n",
       "\t\t\t\t\t\t\t\t\t\t\t\t\n",
       "\t\t\t\t\t\t\t\t\t\t\t</td>\n",
       "<td class=\"righty\" data-title=\"Total Winners\">\n",
       "\t\t\t\t\t\t\t\t\t\t\t373,985\n",
       "\t\t\t\t\t\t\t\t\t\t\t\t\n",
       "\t\t\t\t\t\t\t\t\t\t</td>\n",
       "</tr>\n",
       "<tr>\n",
       "<td class=\"colour\" data-title=\"Numbers Matched\">\n",
       "<span class=\"prizeName\"><span class=\"ball\">2</span></span>\n",
       "</td>\n",
       "<td class=\"righty\" data-title=\"Prize Per Winner\">\n",
       "\t\t\t\t\t\t\t\t\t\t\t€3.80\n",
       "\t\t\t\t\t\t\t\t\t\t\t\n",
       "\t\t\t\t\t\t\t\t\t\t</td>\n",
       "<td class=\"righty\" data-title=\"Belgian Winners\">\n",
       "\t\t\t\t\t\t\t\t\t\t\t\t68,721\n",
       "\t\t\t\t\t\t\t\t\t\t\t\t\n",
       "\t\t\t\t\t\t\t\t\t\t\t</td>\n",
       "<td class=\"righty\" data-title=\"Prize Fund Amount\">\n",
       "\t\t\t\t\t\t\t\t\t\t\t\t€261,139.80\n",
       "\t\t\t\t\t\t\t\t\t\t\t\t\n",
       "\t\t\t\t\t\t\t\t\t\t\t</td>\n",
       "<td class=\"righty\" data-title=\"Total Winners\">\n",
       "\t\t\t\t\t\t\t\t\t\t\t972,679\n",
       "\t\t\t\t\t\t\t\t\t\t\t\t\n",
       "\t\t\t\t\t\t\t\t\t\t</td>\n",
       "</tr>\n",
       "<tr class=\"totals\">\n",
       "<td class=\"colour\" data-title=\"Numbers Matched\">\n",
       "<span class=\"prizeName\">Totals</span>\n",
       "</td>\n",
       "<td class=\"righty\" data-title=\"Prize Per Winner\">\n",
       "\t\t\t\t\t\t\t\t\t\t\t\n",
       "\t\t\t\t\t\t\t\t\t\t\t\t-\n",
       "\t\t\t\t\t\t\t\t\t\t\t\n",
       "\t\t\t\t\t\t\t\t\t\t</td>\n",
       "<td class=\"righty\" data-title=\"Belgian Winners\">\n",
       "\t\t\t\t\t\t\t\t\t\t\t\t110,589\n",
       "\t\t\t\t\t\t\t\t\t\t\t\t\n",
       "\t\t\t\t\t\t\t\t\t\t\t</td>\n",
       "<td class=\"righty\" data-title=\"Prize Fund Amount\">\n",
       "\t\t\t\t\t\t\t\t\t\t\t\t€789,017.80\n",
       "\t\t\t\t\t\t\t\t\t\t\t\t\n",
       "\t\t\t\t\t\t\t\t\t\t\t</td>\n",
       "<td class=\"righty\" data-title=\"Total Winners\">\n",
       "\t\t\t\t\t\t\t\t\t\t\t1,549,047\n",
       "\t\t\t\t\t\t\t\t\t\t\t\t\n",
       "\t\t\t\t\t\t\t\t\t\t</td>\n",
       "</tr>\n",
       "</tbody>\n",
       "</table>\n",
       "</div>"
      ]
     },
     "execution_count": 5,
     "metadata": {},
     "output_type": "execute_result"
    }
   ],
   "source": [
    "# when you are done the following code should be run (feel free to change the country if you wish)\n",
    "country_choice = 'BE'\n",
    "my_country_soup = get_country_soup(url_text, country_choice)\n",
    "my_country_soup"
   ]
  },
  {
   "cell_type": "markdown",
   "metadata": {},
   "source": [
    "## Part 3: Cleaning a Country (20 points)\n",
    "\n",
    "Below is the function `clean_country_df()`, which takes the soup object from the previous function and creates a data frame with the following columns:\n",
    "\n",
    "    - `balls`: the number of balls matched\n",
    "    - `stars`: the number of stars matched\n",
    "    - `ppw`: the prize per winner\n",
    "    - `country_winners`: how many winners of the prize in the given country\n",
    "    - `total_winners`: the total number of winners\n",
    "    - `country`: the country name\n",
    "    - `currency`: the currency of the lottery\n",
    "\n",
    "I have written the function and (*given your function from Part 2 works*) it should work. **DO NOT CHANGE ANYTHING IN THE BODY OF THE FUNCTION.**\n",
    "\n",
    "**In a markdown cell** create a bullet point list where you explain each what each chunk of code does. Your bullet point list should have **THREE** sections, with **NINE** total bullet points/explanations corresponding to the chunks below the `# EXPLAIN THIS (number)` comments. You must accurately summarize the content of each code chunk. **Talking to your neighbors/group about this is highly recommended.**"
   ]
  },
  {
   "cell_type": "code",
   "execution_count": 6,
   "metadata": {},
   "outputs": [
    {
     "data": {
      "text/html": [
       "<div>\n",
       "<style scoped>\n",
       "    .dataframe tbody tr th:only-of-type {\n",
       "        vertical-align: middle;\n",
       "    }\n",
       "\n",
       "    .dataframe tbody tr th {\n",
       "        vertical-align: top;\n",
       "    }\n",
       "\n",
       "    .dataframe thead th {\n",
       "        text-align: right;\n",
       "    }\n",
       "</style>\n",
       "<table border=\"1\" class=\"dataframe\">\n",
       "  <thead>\n",
       "    <tr style=\"text-align: right;\">\n",
       "      <th></th>\n",
       "      <th>balls</th>\n",
       "      <th>stars</th>\n",
       "      <th>ppw</th>\n",
       "      <th>country_winners</th>\n",
       "      <th>total_winners</th>\n",
       "      <th>country</th>\n",
       "      <th>currency</th>\n",
       "    </tr>\n",
       "  </thead>\n",
       "  <tbody>\n",
       "    <tr>\n",
       "      <th>0</th>\n",
       "      <td>5</td>\n",
       "      <td>2</td>\n",
       "      <td>83786486.8</td>\n",
       "      <td>0</td>\n",
       "      <td>NaN</td>\n",
       "      <td>BE</td>\n",
       "      <td>€</td>\n",
       "    </tr>\n",
       "    <tr>\n",
       "      <th>1</th>\n",
       "      <td>5</td>\n",
       "      <td>1</td>\n",
       "      <td>0.0</td>\n",
       "      <td>0</td>\n",
       "      <td>0.0</td>\n",
       "      <td>BE</td>\n",
       "      <td>€</td>\n",
       "    </tr>\n",
       "    <tr>\n",
       "      <th>2</th>\n",
       "      <td>5</td>\n",
       "      <td>0</td>\n",
       "      <td>65420.2</td>\n",
       "      <td>3</td>\n",
       "      <td>11.0</td>\n",
       "      <td>BE</td>\n",
       "      <td>€</td>\n",
       "    </tr>\n",
       "    <tr>\n",
       "      <th>3</th>\n",
       "      <td>4</td>\n",
       "      <td>2</td>\n",
       "      <td>1326.9</td>\n",
       "      <td>4</td>\n",
       "      <td>32.0</td>\n",
       "      <td>BE</td>\n",
       "      <td>€</td>\n",
       "    </tr>\n",
       "    <tr>\n",
       "      <th>4</th>\n",
       "      <td>4</td>\n",
       "      <td>1</td>\n",
       "      <td>129.2</td>\n",
       "      <td>54</td>\n",
       "      <td>605.0</td>\n",
       "      <td>BE</td>\n",
       "      <td>€</td>\n",
       "    </tr>\n",
       "    <tr>\n",
       "      <th>5</th>\n",
       "      <td>3</td>\n",
       "      <td>2</td>\n",
       "      <td>71.5</td>\n",
       "      <td>107</td>\n",
       "      <td>1156.0</td>\n",
       "      <td>BE</td>\n",
       "      <td>€</td>\n",
       "    </tr>\n",
       "    <tr>\n",
       "      <th>6</th>\n",
       "      <td>4</td>\n",
       "      <td>0</td>\n",
       "      <td>38.6</td>\n",
       "      <td>107</td>\n",
       "      <td>1502.0</td>\n",
       "      <td>BE</td>\n",
       "      <td>€</td>\n",
       "    </tr>\n",
       "    <tr>\n",
       "      <th>7</th>\n",
       "      <td>2</td>\n",
       "      <td>2</td>\n",
       "      <td>17.2</td>\n",
       "      <td>1301</td>\n",
       "      <td>16848.0</td>\n",
       "      <td>BE</td>\n",
       "      <td>€</td>\n",
       "    </tr>\n",
       "    <tr>\n",
       "      <th>8</th>\n",
       "      <td>3</td>\n",
       "      <td>1</td>\n",
       "      <td>12.5</td>\n",
       "      <td>1904</td>\n",
       "      <td>25854.0</td>\n",
       "      <td>BE</td>\n",
       "      <td>€</td>\n",
       "    </tr>\n",
       "    <tr>\n",
       "      <th>9</th>\n",
       "      <td>3</td>\n",
       "      <td>0</td>\n",
       "      <td>8.9</td>\n",
       "      <td>4780</td>\n",
       "      <td>67339.0</td>\n",
       "      <td>BE</td>\n",
       "      <td>€</td>\n",
       "    </tr>\n",
       "    <tr>\n",
       "      <th>10</th>\n",
       "      <td>1</td>\n",
       "      <td>2</td>\n",
       "      <td>8.2</td>\n",
       "      <td>6583</td>\n",
       "      <td>89036.0</td>\n",
       "      <td>BE</td>\n",
       "      <td>€</td>\n",
       "    </tr>\n",
       "    <tr>\n",
       "      <th>11</th>\n",
       "      <td>2</td>\n",
       "      <td>1</td>\n",
       "      <td>6.1</td>\n",
       "      <td>27025</td>\n",
       "      <td>373985.0</td>\n",
       "      <td>BE</td>\n",
       "      <td>€</td>\n",
       "    </tr>\n",
       "    <tr>\n",
       "      <th>12</th>\n",
       "      <td>2</td>\n",
       "      <td>0</td>\n",
       "      <td>3.8</td>\n",
       "      <td>68721</td>\n",
       "      <td>972679.0</td>\n",
       "      <td>BE</td>\n",
       "      <td>€</td>\n",
       "    </tr>\n",
       "  </tbody>\n",
       "</table>\n",
       "</div>"
      ],
      "text/plain": [
       "    balls  stars         ppw  country_winners  total_winners country currency\n",
       "0       5      2  83786486.8                0            NaN      BE        €\n",
       "1       5      1         0.0                0            0.0      BE        €\n",
       "2       5      0     65420.2                3           11.0      BE        €\n",
       "3       4      2      1326.9                4           32.0      BE        €\n",
       "4       4      1       129.2               54          605.0      BE        €\n",
       "5       3      2        71.5              107         1156.0      BE        €\n",
       "6       4      0        38.6              107         1502.0      BE        €\n",
       "7       2      2        17.2             1301        16848.0      BE        €\n",
       "8       3      1        12.5             1904        25854.0      BE        €\n",
       "9       3      0         8.9             4780        67339.0      BE        €\n",
       "10      1      2         8.2             6583        89036.0      BE        €\n",
       "11      2      1         6.1            27025       373985.0      BE        €\n",
       "12      2      0         3.8            68721       972679.0      BE        €"
      ]
     },
     "execution_count": 6,
     "metadata": {},
     "output_type": "execute_result"
    }
   ],
   "source": [
    "def clean_country_df(soup, country_name):\n",
    "    \"\"\"Takes the soup of a country and cleans it, creating a data frame.\n",
    "    \n",
    "    Args:\n",
    "        soup (soup): the soup from get_country_soup\n",
    "        country_name (str): name of the country (make sure this matches with the code used in the previous part)\n",
    "            ** Attention: The country_name must match the country_choice used to create the soup\n",
    "    Returns:\n",
    "        clean_country_df (DataFrame): a DataFrame with seven columns corresponding to\n",
    "            balls matched\n",
    "            stars matched\n",
    "            prize per winner\n",
    "            country winners\n",
    "            total winners\n",
    "            country\n",
    "            currency\n",
    "    \"\"\"\n",
    "    # EXPLAIN THIS (1.1)\n",
    "    table = soup.find('table')\n",
    "\n",
    "    # EXPLAIN THIS (1.2)\n",
    "    headers = [th.get_text(strip=True) for th in table.find('thead').find_all('th')]\n",
    "\n",
    "    # EXPLAIN THIS (1.3)\n",
    "    country_winner_index = next((i for i, header in enumerate(headers) if 'Winners' in header and 'Total' not in header), None)\n",
    "\n",
    "    # EXPLAIN THIS (1.4)\n",
    "    balls_matched = []\n",
    "    stars_matched = []\n",
    "    prize_per_winner = []\n",
    "    country_winners = []\n",
    "    total_winners = []\n",
    "    currencies = []\n",
    "    \n",
    "    # Process each row in the table body, excluding the last totals row\n",
    "    for row in table.find('tbody').find_all('tr')[:-1]:\n",
    "        columns = row.find_all('td')\n",
    "        \n",
    "        # EXPLAIN THIS (2.1)\n",
    "        numbers_matched = columns[0].get_text(strip=True)\n",
    "        prize = columns[1].get_text(strip=True)\n",
    "        country_winner = columns[country_winner_index].get_text(strip=True) if country_winner_index is not None else 'N/A'\n",
    "        total_winner = columns[-1].get_text(strip=True)\n",
    "        \n",
    "        # EXPLAIN THIS (2.2)\n",
    "        currency_match = re.match(r'^\\D*', prize)\n",
    "        currency = currency_match.group(0) if currency_match else 'N/A'\n",
    "        currencies.append(currency)\n",
    "        \n",
    "        # EXPLAIN THIS (2.3)\n",
    "        numeric_prize = pd.to_numeric(prize.replace(currency, '').replace(',', ''), errors='coerce')\n",
    "        \n",
    "        # EXPLAIN THIS (2.4)\n",
    "        numbers_split = numbers_matched.split('+')\n",
    "        balls = pd.to_numeric(numbers_split[0].strip().replace(',', ''), errors='coerce')\n",
    "        stars = pd.to_numeric(numbers_split[1].strip().replace(',', ''), errors='coerce') if len(numbers_split) > 1 else 0\n",
    "\n",
    "        balls_matched.append(balls)\n",
    "        stars_matched.append(stars)\n",
    "        prize_per_winner.append(numeric_prize)\n",
    "        country_winners.append(pd.to_numeric(country_winner.replace(',', ''), errors='coerce'))\n",
    "        total_winners.append(pd.to_numeric(total_winner.replace(',', ''), errors='coerce'))\n",
    "    \n",
    "    # EXPLAIN THIS (3)\n",
    "    data = {\n",
    "        'balls': balls_matched,\n",
    "        'stars': stars_matched,\n",
    "        'ppw': prize_per_winner,\n",
    "        'country_winners': country_winners,\n",
    "        'total_winners': total_winners,\n",
    "        'country': [country_name] * len(balls_matched),\n",
    "        'currency': currencies\n",
    "    }\n",
    "    \n",
    "    clean_country_df = pd.DataFrame(data)\n",
    "    \n",
    "    return clean_country_df\n",
    "\n",
    "# Example usage\n",
    "clean_df = clean_country_df(my_country_soup, 'BE')\n",
    "clean_df\n"
   ]
  },
  {
   "cell_type": "markdown",
   "metadata": {},
   "source": [
    "Your answer in this cell:\n",
    "- Explain Code Chunks 1:\n",
    "  \n",
    "    - this line finds the tables from the input soup object and stores them in 'table' so that the tables can be read.\n",
    "    - this line finds all the table headers and stores them in a list called 'headers'. it cleans and formats the headers as well.\n",
    "    - loops through the table headers to find the header under which the winners are found. returns the index of this header in a table of all headers. if there are no winners returns none\n",
    "    - initialises many lists to be used later to store relevant data.\n",
    "- Explain Code Chunks 2:\n",
    "  \n",
    "    - finds and stores data in the table. Such as, the numbers matched, the prize money, the country that won and the 'total winner'\n",
    "    - finds the currency of the amount of money.\n",
    "    - reads the string from the website and converts it to an int, removing all commas\n",
    "    - reads the ball and stars matched and converts these from strings to numbers. Then all the data read from this single table row is appended to a list initialised before containing values saved from previous rows\n",
    "- Explain Code Chunk 3:\n",
    "    - builds a dictionary and then converts this to a data frame to be returned."
   ]
  },
  {
   "cell_type": "markdown",
   "metadata": {},
   "source": [
    "## Part 4: Stacking the Countries (20 points)\n",
    "\n",
    "Complete the function `stack_countries_df()` below (including docstring) which takes as an argument a list of country codes (strings) and a list of dates (strings), and uses the functions from the previous three parts to create a single data frame with results across those countries and dates. There may be multiple ways to do this, but one way could be to first loop through the dates, use the `get_lottery_html()` function, then loop through the countries and apply the other two functions. You will also want to add a column with the date information to the final data frame.\n",
    "\n",
    "**Make sure to remove the `pass` statement when you are finished.** Then, also make sure to run the code to ensure your function works."
   ]
  },
  {
   "cell_type": "code",
   "execution_count": 7,
   "metadata": {},
   "outputs": [],
   "source": [
    "def stack_countries_df(country_list, date_list):\n",
    "    \"\"\"\n",
    "    Args:\n",
    "        country_codes (list): list of strings representing country codes\n",
    "        dates (list): list of strings representing dates\n",
    "\n",
    "    Returns:\n",
    "        dataframe (pd.DataFrame): dataframe containing lottery results across the countries and the dates\n",
    "    \"\"\"\n",
    "    df = pd.DataFrame()\n",
    "\n",
    "    for date in date_list:\n",
    "        html = get_lottery_html(date)\n",
    "        for country in country_list:\n",
    "            country_soup = get_country_soup(html, country)\n",
    "            country_df = clean_country_df(country_soup, country)\n",
    "            date_list2 = []\n",
    "            for row in range(len(country_df)):\n",
    "                date_list2.append(date)\n",
    "            country_df['Date'] = date_list2\n",
    "            df = pd.concat([df, country_df])\n",
    "            \n",
    "    return df\n"
   ]
  },
  {
   "cell_type": "code",
   "execution_count": 8,
   "metadata": {},
   "outputs": [
    {
     "data": {
      "text/html": [
       "<div>\n",
       "<style scoped>\n",
       "    .dataframe tbody tr th:only-of-type {\n",
       "        vertical-align: middle;\n",
       "    }\n",
       "\n",
       "    .dataframe tbody tr th {\n",
       "        vertical-align: top;\n",
       "    }\n",
       "\n",
       "    .dataframe thead th {\n",
       "        text-align: right;\n",
       "    }\n",
       "</style>\n",
       "<table border=\"1\" class=\"dataframe\">\n",
       "  <thead>\n",
       "    <tr style=\"text-align: right;\">\n",
       "      <th></th>\n",
       "      <th>balls</th>\n",
       "      <th>stars</th>\n",
       "      <th>ppw</th>\n",
       "      <th>country_winners</th>\n",
       "      <th>total_winners</th>\n",
       "      <th>country</th>\n",
       "      <th>currency</th>\n",
       "      <th>Date</th>\n",
       "    </tr>\n",
       "  </thead>\n",
       "  <tbody>\n",
       "    <tr>\n",
       "      <th>0</th>\n",
       "      <td>5</td>\n",
       "      <td>2</td>\n",
       "      <td>74400108.10</td>\n",
       "      <td>0</td>\n",
       "      <td>NaN</td>\n",
       "      <td>BE</td>\n",
       "      <td>€</td>\n",
       "      <td>25-04-2025</td>\n",
       "    </tr>\n",
       "    <tr>\n",
       "      <th>1</th>\n",
       "      <td>5</td>\n",
       "      <td>1</td>\n",
       "      <td>148333.50</td>\n",
       "      <td>0</td>\n",
       "      <td>5.0</td>\n",
       "      <td>BE</td>\n",
       "      <td>€</td>\n",
       "      <td>25-04-2025</td>\n",
       "    </tr>\n",
       "    <tr>\n",
       "      <th>2</th>\n",
       "      <td>5</td>\n",
       "      <td>0</td>\n",
       "      <td>34667.90</td>\n",
       "      <td>0</td>\n",
       "      <td>5.0</td>\n",
       "      <td>BE</td>\n",
       "      <td>€</td>\n",
       "      <td>25-04-2025</td>\n",
       "    </tr>\n",
       "    <tr>\n",
       "      <th>3</th>\n",
       "      <td>4</td>\n",
       "      <td>2</td>\n",
       "      <td>1316.80</td>\n",
       "      <td>3</td>\n",
       "      <td>41.0</td>\n",
       "      <td>BE</td>\n",
       "      <td>€</td>\n",
       "      <td>25-04-2025</td>\n",
       "    </tr>\n",
       "    <tr>\n",
       "      <th>4</th>\n",
       "      <td>4</td>\n",
       "      <td>1</td>\n",
       "      <td>142.80</td>\n",
       "      <td>82</td>\n",
       "      <td>696.0</td>\n",
       "      <td>BE</td>\n",
       "      <td>€</td>\n",
       "      <td>25-04-2025</td>\n",
       "    </tr>\n",
       "    <tr>\n",
       "      <th>...</th>\n",
       "      <td>...</td>\n",
       "      <td>...</td>\n",
       "      <td>...</td>\n",
       "      <td>...</td>\n",
       "      <td>...</td>\n",
       "      <td>...</td>\n",
       "      <td>...</td>\n",
       "      <td>...</td>\n",
       "    </tr>\n",
       "    <tr>\n",
       "      <th>8</th>\n",
       "      <td>3</td>\n",
       "      <td>1</td>\n",
       "      <td>26.75</td>\n",
       "      <td>1610</td>\n",
       "      <td>25854.0</td>\n",
       "      <td>CH</td>\n",
       "      <td>CHF</td>\n",
       "      <td>29-04-2025</td>\n",
       "    </tr>\n",
       "    <tr>\n",
       "      <th>9</th>\n",
       "      <td>3</td>\n",
       "      <td>0</td>\n",
       "      <td>19.10</td>\n",
       "      <td>4429</td>\n",
       "      <td>67339.0</td>\n",
       "      <td>CH</td>\n",
       "      <td>CHF</td>\n",
       "      <td>29-04-2025</td>\n",
       "    </tr>\n",
       "    <tr>\n",
       "      <th>10</th>\n",
       "      <td>1</td>\n",
       "      <td>2</td>\n",
       "      <td>17.50</td>\n",
       "      <td>5542</td>\n",
       "      <td>89036.0</td>\n",
       "      <td>CH</td>\n",
       "      <td>CHF</td>\n",
       "      <td>29-04-2025</td>\n",
       "    </tr>\n",
       "    <tr>\n",
       "      <th>11</th>\n",
       "      <td>2</td>\n",
       "      <td>1</td>\n",
       "      <td>13.15</td>\n",
       "      <td>24107</td>\n",
       "      <td>373985.0</td>\n",
       "      <td>CH</td>\n",
       "      <td>CHF</td>\n",
       "      <td>29-04-2025</td>\n",
       "    </tr>\n",
       "    <tr>\n",
       "      <th>12</th>\n",
       "      <td>2</td>\n",
       "      <td>0</td>\n",
       "      <td>8.15</td>\n",
       "      <td>65754</td>\n",
       "      <td>972679.0</td>\n",
       "      <td>CH</td>\n",
       "      <td>CHF</td>\n",
       "      <td>29-04-2025</td>\n",
       "    </tr>\n",
       "  </tbody>\n",
       "</table>\n",
       "<p>78 rows × 8 columns</p>\n",
       "</div>"
      ],
      "text/plain": [
       "    balls  stars          ppw  country_winners  total_winners country  \\\n",
       "0       5      2  74400108.10                0            NaN      BE   \n",
       "1       5      1    148333.50                0            5.0      BE   \n",
       "2       5      0     34667.90                0            5.0      BE   \n",
       "3       4      2      1316.80                3           41.0      BE   \n",
       "4       4      1       142.80               82          696.0      BE   \n",
       "..    ...    ...          ...              ...            ...     ...   \n",
       "8       3      1        26.75             1610        25854.0      CH   \n",
       "9       3      0        19.10             4429        67339.0      CH   \n",
       "10      1      2        17.50             5542        89036.0      CH   \n",
       "11      2      1        13.15            24107       373985.0      CH   \n",
       "12      2      0         8.15            65754       972679.0      CH   \n",
       "\n",
       "   currency        Date  \n",
       "0         €  25-04-2025  \n",
       "1         €  25-04-2025  \n",
       "2         €  25-04-2025  \n",
       "3         €  25-04-2025  \n",
       "4         €  25-04-2025  \n",
       "..      ...         ...  \n",
       "8       CHF  29-04-2025  \n",
       "9       CHF  29-04-2025  \n",
       "10      CHF  29-04-2025  \n",
       "11      CHF  29-04-2025  \n",
       "12      CHF  29-04-2025  \n",
       "\n",
       "[78 rows x 8 columns]"
      ]
     },
     "execution_count": 8,
     "metadata": {},
     "output_type": "execute_result"
    }
   ],
   "source": [
    "country_codes = ['BE', 'GB', 'CH']\n",
    "dates = ['25-04-2025', '29-04-2025']\n",
    "combined_df = stack_countries_df(country_codes, dates)\n",
    "combined_df"
   ]
  },
  {
   "cell_type": "markdown",
   "metadata": {},
   "source": [
    "## Part 5: EDA and Data Viz (20 points)\n",
    "\n",
    "The first code cell below runs your function from part 4 to get the lottery results for Belgium and France over the month of April 2025. Use this data frame to:\n",
    "\n",
    "- Create a subset which contains only the 4 ball, 0 star winners\n",
    "- Plot a line plot that compares the number of 4 ball, 0 star winners for in Belgium and France over April\n",
    "\n",
    "**Then, in a markdown cell** discuss briefly what this plot tells you, if anything."
   ]
  },
  {
   "cell_type": "code",
   "execution_count": 9,
   "metadata": {},
   "outputs": [],
   "source": [
    "country_codes = ['BE', 'FR']\n",
    "dates = ['01-04-2025', '04-04-2025', '08-04-2025', \n",
    "         '11-04-2025', '15-04-2025', '18-04-2025', \n",
    "         '22-04-2025', '25-04-2025', '29-04-2025']\n",
    "combined_df = stack_countries_df(country_codes, dates)"
   ]
  },
  {
   "cell_type": "code",
   "execution_count": 10,
   "metadata": {},
   "outputs": [
    {
     "data": {
      "text/html": [
       "<div>\n",
       "<style scoped>\n",
       "    .dataframe tbody tr th:only-of-type {\n",
       "        vertical-align: middle;\n",
       "    }\n",
       "\n",
       "    .dataframe tbody tr th {\n",
       "        vertical-align: top;\n",
       "    }\n",
       "\n",
       "    .dataframe thead th {\n",
       "        text-align: right;\n",
       "    }\n",
       "</style>\n",
       "<table border=\"1\" class=\"dataframe\">\n",
       "  <thead>\n",
       "    <tr style=\"text-align: right;\">\n",
       "      <th></th>\n",
       "      <th>balls</th>\n",
       "      <th>stars</th>\n",
       "      <th>ppw</th>\n",
       "      <th>country_winners</th>\n",
       "      <th>total_winners</th>\n",
       "      <th>country</th>\n",
       "      <th>currency</th>\n",
       "      <th>Date</th>\n",
       "    </tr>\n",
       "  </thead>\n",
       "  <tbody>\n",
       "    <tr>\n",
       "      <th>18</th>\n",
       "      <td>0</td>\n",
       "      <td>NaN</td>\n",
       "      <td>12.4</td>\n",
       "      <td>14325</td>\n",
       "      <td>14325.0</td>\n",
       "      <td>FR</td>\n",
       "      <td>€</td>\n",
       "      <td>29-04-2025</td>\n",
       "    </tr>\n",
       "    <tr>\n",
       "      <th>19</th>\n",
       "      <td>2</td>\n",
       "      <td>1.0</td>\n",
       "      <td>6.1</td>\n",
       "      <td>76684</td>\n",
       "      <td>373985.0</td>\n",
       "      <td>FR</td>\n",
       "      <td>€</td>\n",
       "      <td>29-04-2025</td>\n",
       "    </tr>\n",
       "    <tr>\n",
       "      <th>20</th>\n",
       "      <td>2</td>\n",
       "      <td>NaN</td>\n",
       "      <td>2.7</td>\n",
       "      <td>37303</td>\n",
       "      <td>37303.0</td>\n",
       "      <td>FR</td>\n",
       "      <td>€</td>\n",
       "      <td>29-04-2025</td>\n",
       "    </tr>\n",
       "    <tr>\n",
       "      <th>21</th>\n",
       "      <td>2</td>\n",
       "      <td>0.0</td>\n",
       "      <td>3.8</td>\n",
       "      <td>209656</td>\n",
       "      <td>972679.0</td>\n",
       "      <td>FR</td>\n",
       "      <td>€</td>\n",
       "      <td>29-04-2025</td>\n",
       "    </tr>\n",
       "    <tr>\n",
       "      <th>22</th>\n",
       "      <td>0</td>\n",
       "      <td>NaN</td>\n",
       "      <td>2.7</td>\n",
       "      <td>321126</td>\n",
       "      <td>321126.0</td>\n",
       "      <td>FR</td>\n",
       "      <td>€</td>\n",
       "      <td>29-04-2025</td>\n",
       "    </tr>\n",
       "  </tbody>\n",
       "</table>\n",
       "</div>"
      ],
      "text/plain": [
       "    balls  stars   ppw  country_winners  total_winners country currency  \\\n",
       "18      0    NaN  12.4            14325        14325.0      FR        €   \n",
       "19      2    1.0   6.1            76684       373985.0      FR        €   \n",
       "20      2    NaN   2.7            37303        37303.0      FR        €   \n",
       "21      2    0.0   3.8           209656       972679.0      FR        €   \n",
       "22      0    NaN   2.7           321126       321126.0      FR        €   \n",
       "\n",
       "          Date  \n",
       "18  29-04-2025  \n",
       "19  29-04-2025  \n",
       "20  29-04-2025  \n",
       "21  29-04-2025  \n",
       "22  29-04-2025  "
      ]
     },
     "execution_count": 10,
     "metadata": {},
     "output_type": "execute_result"
    }
   ],
   "source": [
    "combined_df.tail()"
   ]
  },
  {
   "cell_type": "code",
   "execution_count": 11,
   "metadata": {},
   "outputs": [
    {
     "data": {
      "text/html": [
       "<div>\n",
       "<style scoped>\n",
       "    .dataframe tbody tr th:only-of-type {\n",
       "        vertical-align: middle;\n",
       "    }\n",
       "\n",
       "    .dataframe tbody tr th {\n",
       "        vertical-align: top;\n",
       "    }\n",
       "\n",
       "    .dataframe thead th {\n",
       "        text-align: right;\n",
       "    }\n",
       "</style>\n",
       "<table border=\"1\" class=\"dataframe\">\n",
       "  <thead>\n",
       "    <tr style=\"text-align: right;\">\n",
       "      <th></th>\n",
       "      <th>balls</th>\n",
       "      <th>stars</th>\n",
       "      <th>ppw</th>\n",
       "      <th>country_winners</th>\n",
       "      <th>total_winners</th>\n",
       "      <th>country</th>\n",
       "      <th>currency</th>\n",
       "      <th>Date</th>\n",
       "    </tr>\n",
       "  </thead>\n",
       "  <tbody>\n",
       "    <tr>\n",
       "      <th>6</th>\n",
       "      <td>4</td>\n",
       "      <td>0.0</td>\n",
       "      <td>53.2</td>\n",
       "      <td>75</td>\n",
       "      <td>998.0</td>\n",
       "      <td>BE</td>\n",
       "      <td>€</td>\n",
       "      <td>01-04-2025</td>\n",
       "    </tr>\n",
       "    <tr>\n",
       "      <th>10</th>\n",
       "      <td>4</td>\n",
       "      <td>0.0</td>\n",
       "      <td>53.2</td>\n",
       "      <td>226</td>\n",
       "      <td>998.0</td>\n",
       "      <td>FR</td>\n",
       "      <td>€</td>\n",
       "      <td>01-04-2025</td>\n",
       "    </tr>\n",
       "    <tr>\n",
       "      <th>6</th>\n",
       "      <td>4</td>\n",
       "      <td>0.0</td>\n",
       "      <td>49.2</td>\n",
       "      <td>137</td>\n",
       "      <td>1386.0</td>\n",
       "      <td>BE</td>\n",
       "      <td>€</td>\n",
       "      <td>04-04-2025</td>\n",
       "    </tr>\n",
       "    <tr>\n",
       "      <th>10</th>\n",
       "      <td>4</td>\n",
       "      <td>0.0</td>\n",
       "      <td>49.2</td>\n",
       "      <td>259</td>\n",
       "      <td>1386.0</td>\n",
       "      <td>FR</td>\n",
       "      <td>€</td>\n",
       "      <td>04-04-2025</td>\n",
       "    </tr>\n",
       "    <tr>\n",
       "      <th>6</th>\n",
       "      <td>4</td>\n",
       "      <td>0.0</td>\n",
       "      <td>56.5</td>\n",
       "      <td>52</td>\n",
       "      <td>858.0</td>\n",
       "      <td>BE</td>\n",
       "      <td>€</td>\n",
       "      <td>08-04-2025</td>\n",
       "    </tr>\n",
       "    <tr>\n",
       "      <th>10</th>\n",
       "      <td>4</td>\n",
       "      <td>0.0</td>\n",
       "      <td>56.5</td>\n",
       "      <td>175</td>\n",
       "      <td>858.0</td>\n",
       "      <td>FR</td>\n",
       "      <td>€</td>\n",
       "      <td>08-04-2025</td>\n",
       "    </tr>\n",
       "    <tr>\n",
       "      <th>6</th>\n",
       "      <td>4</td>\n",
       "      <td>0.0</td>\n",
       "      <td>49.2</td>\n",
       "      <td>101</td>\n",
       "      <td>1336.0</td>\n",
       "      <td>BE</td>\n",
       "      <td>€</td>\n",
       "      <td>11-04-2025</td>\n",
       "    </tr>\n",
       "    <tr>\n",
       "      <th>10</th>\n",
       "      <td>4</td>\n",
       "      <td>0.0</td>\n",
       "      <td>49.2</td>\n",
       "      <td>292</td>\n",
       "      <td>1336.0</td>\n",
       "      <td>FR</td>\n",
       "      <td>€</td>\n",
       "      <td>11-04-2025</td>\n",
       "    </tr>\n",
       "    <tr>\n",
       "      <th>6</th>\n",
       "      <td>4</td>\n",
       "      <td>0.0</td>\n",
       "      <td>49.5</td>\n",
       "      <td>58</td>\n",
       "      <td>1042.0</td>\n",
       "      <td>BE</td>\n",
       "      <td>€</td>\n",
       "      <td>15-04-2025</td>\n",
       "    </tr>\n",
       "    <tr>\n",
       "      <th>10</th>\n",
       "      <td>4</td>\n",
       "      <td>0.0</td>\n",
       "      <td>49.5</td>\n",
       "      <td>197</td>\n",
       "      <td>1042.0</td>\n",
       "      <td>FR</td>\n",
       "      <td>€</td>\n",
       "      <td>15-04-2025</td>\n",
       "    </tr>\n",
       "    <tr>\n",
       "      <th>6</th>\n",
       "      <td>4</td>\n",
       "      <td>0.0</td>\n",
       "      <td>47.9</td>\n",
       "      <td>105</td>\n",
       "      <td>1397.0</td>\n",
       "      <td>BE</td>\n",
       "      <td>€</td>\n",
       "      <td>18-04-2025</td>\n",
       "    </tr>\n",
       "    <tr>\n",
       "      <th>10</th>\n",
       "      <td>4</td>\n",
       "      <td>0.0</td>\n",
       "      <td>47.9</td>\n",
       "      <td>310</td>\n",
       "      <td>1397.0</td>\n",
       "      <td>FR</td>\n",
       "      <td>€</td>\n",
       "      <td>18-04-2025</td>\n",
       "    </tr>\n",
       "    <tr>\n",
       "      <th>6</th>\n",
       "      <td>4</td>\n",
       "      <td>0.0</td>\n",
       "      <td>41.6</td>\n",
       "      <td>60</td>\n",
       "      <td>1250.0</td>\n",
       "      <td>BE</td>\n",
       "      <td>€</td>\n",
       "      <td>22-04-2025</td>\n",
       "    </tr>\n",
       "    <tr>\n",
       "      <th>10</th>\n",
       "      <td>4</td>\n",
       "      <td>0.0</td>\n",
       "      <td>41.6</td>\n",
       "      <td>241</td>\n",
       "      <td>1250.0</td>\n",
       "      <td>FR</td>\n",
       "      <td>€</td>\n",
       "      <td>22-04-2025</td>\n",
       "    </tr>\n",
       "    <tr>\n",
       "      <th>6</th>\n",
       "      <td>4</td>\n",
       "      <td>0.0</td>\n",
       "      <td>33.5</td>\n",
       "      <td>234</td>\n",
       "      <td>2202.0</td>\n",
       "      <td>BE</td>\n",
       "      <td>€</td>\n",
       "      <td>25-04-2025</td>\n",
       "    </tr>\n",
       "    <tr>\n",
       "      <th>10</th>\n",
       "      <td>4</td>\n",
       "      <td>0.0</td>\n",
       "      <td>33.5</td>\n",
       "      <td>446</td>\n",
       "      <td>2202.0</td>\n",
       "      <td>FR</td>\n",
       "      <td>€</td>\n",
       "      <td>25-04-2025</td>\n",
       "    </tr>\n",
       "    <tr>\n",
       "      <th>6</th>\n",
       "      <td>4</td>\n",
       "      <td>0.0</td>\n",
       "      <td>38.6</td>\n",
       "      <td>107</td>\n",
       "      <td>1502.0</td>\n",
       "      <td>BE</td>\n",
       "      <td>€</td>\n",
       "      <td>29-04-2025</td>\n",
       "    </tr>\n",
       "    <tr>\n",
       "      <th>10</th>\n",
       "      <td>4</td>\n",
       "      <td>0.0</td>\n",
       "      <td>38.6</td>\n",
       "      <td>264</td>\n",
       "      <td>1502.0</td>\n",
       "      <td>FR</td>\n",
       "      <td>€</td>\n",
       "      <td>29-04-2025</td>\n",
       "    </tr>\n",
       "  </tbody>\n",
       "</table>\n",
       "</div>"
      ],
      "text/plain": [
       "    balls  stars   ppw  country_winners  total_winners country currency  \\\n",
       "6       4    0.0  53.2               75          998.0      BE        €   \n",
       "10      4    0.0  53.2              226          998.0      FR        €   \n",
       "6       4    0.0  49.2              137         1386.0      BE        €   \n",
       "10      4    0.0  49.2              259         1386.0      FR        €   \n",
       "6       4    0.0  56.5               52          858.0      BE        €   \n",
       "10      4    0.0  56.5              175          858.0      FR        €   \n",
       "6       4    0.0  49.2              101         1336.0      BE        €   \n",
       "10      4    0.0  49.2              292         1336.0      FR        €   \n",
       "6       4    0.0  49.5               58         1042.0      BE        €   \n",
       "10      4    0.0  49.5              197         1042.0      FR        €   \n",
       "6       4    0.0  47.9              105         1397.0      BE        €   \n",
       "10      4    0.0  47.9              310         1397.0      FR        €   \n",
       "6       4    0.0  41.6               60         1250.0      BE        €   \n",
       "10      4    0.0  41.6              241         1250.0      FR        €   \n",
       "6       4    0.0  33.5              234         2202.0      BE        €   \n",
       "10      4    0.0  33.5              446         2202.0      FR        €   \n",
       "6       4    0.0  38.6              107         1502.0      BE        €   \n",
       "10      4    0.0  38.6              264         1502.0      FR        €   \n",
       "\n",
       "          Date  \n",
       "6   01-04-2025  \n",
       "10  01-04-2025  \n",
       "6   04-04-2025  \n",
       "10  04-04-2025  \n",
       "6   08-04-2025  \n",
       "10  08-04-2025  \n",
       "6   11-04-2025  \n",
       "10  11-04-2025  \n",
       "6   15-04-2025  \n",
       "10  15-04-2025  \n",
       "6   18-04-2025  \n",
       "10  18-04-2025  \n",
       "6   22-04-2025  \n",
       "10  22-04-2025  \n",
       "6   25-04-2025  \n",
       "10  25-04-2025  \n",
       "6   29-04-2025  \n",
       "10  29-04-2025  "
      ]
     },
     "execution_count": 11,
     "metadata": {},
     "output_type": "execute_result"
    }
   ],
   "source": [
    "# Create the subset here\n",
    "filter = (combined_df.balls == 4) & (combined_df.stars == 0)\n",
    "df_subset = combined_df.loc[filter]\n",
    "df_subset\n"
   ]
  },
  {
   "cell_type": "code",
   "execution_count": 12,
   "metadata": {},
   "outputs": [],
   "source": [
    "# Create the line plot here (you may use matplotlib or plotly)\n",
    "import plotly.express as px"
   ]
  },
  {
   "cell_type": "code",
   "execution_count": 13,
   "metadata": {},
   "outputs": [
    {
     "data": {
      "application/vnd.plotly.v1+json": {
       "config": {
        "plotlyServerURL": "https://plot.ly"
       },
       "data": [
        {
         "hovertemplate": "country=BE<br>Date=%{x}<br>country_winners=%{y}<extra></extra>",
         "legendgroup": "BE",
         "line": {
          "color": "#636efa",
          "dash": "solid"
         },
         "marker": {
          "symbol": "circle"
         },
         "mode": "lines",
         "name": "BE",
         "orientation": "v",
         "showlegend": true,
         "type": "scatter",
         "x": [
          "01-04-2025",
          "04-04-2025",
          "08-04-2025",
          "11-04-2025",
          "15-04-2025",
          "18-04-2025",
          "22-04-2025",
          "25-04-2025",
          "29-04-2025"
         ],
         "xaxis": "x",
         "y": {
          "bdata": "SwCJADQAZQA6AGkAPADqAGsA",
          "dtype": "i2"
         },
         "yaxis": "y"
        },
        {
         "hovertemplate": "country=FR<br>Date=%{x}<br>country_winners=%{y}<extra></extra>",
         "legendgroup": "FR",
         "line": {
          "color": "#EF553B",
          "dash": "solid"
         },
         "marker": {
          "symbol": "circle"
         },
         "mode": "lines",
         "name": "FR",
         "orientation": "v",
         "showlegend": true,
         "type": "scatter",
         "x": [
          "01-04-2025",
          "04-04-2025",
          "08-04-2025",
          "11-04-2025",
          "15-04-2025",
          "18-04-2025",
          "22-04-2025",
          "25-04-2025",
          "29-04-2025"
         ],
         "xaxis": "x",
         "y": {
          "bdata": "4gADAa8AJAHFADYB8QC+AQgB",
          "dtype": "i2"
         },
         "yaxis": "y"
        }
       ],
       "layout": {
        "legend": {
         "title": {
          "text": "country"
         },
         "tracegroupgap": 0
        },
        "margin": {
         "t": 60
        },
        "template": {
         "data": {
          "bar": [
           {
            "error_x": {
             "color": "#2a3f5f"
            },
            "error_y": {
             "color": "#2a3f5f"
            },
            "marker": {
             "line": {
              "color": "#E5ECF6",
              "width": 0.5
             },
             "pattern": {
              "fillmode": "overlay",
              "size": 10,
              "solidity": 0.2
             }
            },
            "type": "bar"
           }
          ],
          "barpolar": [
           {
            "marker": {
             "line": {
              "color": "#E5ECF6",
              "width": 0.5
             },
             "pattern": {
              "fillmode": "overlay",
              "size": 10,
              "solidity": 0.2
             }
            },
            "type": "barpolar"
           }
          ],
          "carpet": [
           {
            "aaxis": {
             "endlinecolor": "#2a3f5f",
             "gridcolor": "white",
             "linecolor": "white",
             "minorgridcolor": "white",
             "startlinecolor": "#2a3f5f"
            },
            "baxis": {
             "endlinecolor": "#2a3f5f",
             "gridcolor": "white",
             "linecolor": "white",
             "minorgridcolor": "white",
             "startlinecolor": "#2a3f5f"
            },
            "type": "carpet"
           }
          ],
          "choropleth": [
           {
            "colorbar": {
             "outlinewidth": 0,
             "ticks": ""
            },
            "type": "choropleth"
           }
          ],
          "contour": [
           {
            "colorbar": {
             "outlinewidth": 0,
             "ticks": ""
            },
            "colorscale": [
             [
              0,
              "#0d0887"
             ],
             [
              0.1111111111111111,
              "#46039f"
             ],
             [
              0.2222222222222222,
              "#7201a8"
             ],
             [
              0.3333333333333333,
              "#9c179e"
             ],
             [
              0.4444444444444444,
              "#bd3786"
             ],
             [
              0.5555555555555556,
              "#d8576b"
             ],
             [
              0.6666666666666666,
              "#ed7953"
             ],
             [
              0.7777777777777778,
              "#fb9f3a"
             ],
             [
              0.8888888888888888,
              "#fdca26"
             ],
             [
              1,
              "#f0f921"
             ]
            ],
            "type": "contour"
           }
          ],
          "contourcarpet": [
           {
            "colorbar": {
             "outlinewidth": 0,
             "ticks": ""
            },
            "type": "contourcarpet"
           }
          ],
          "heatmap": [
           {
            "colorbar": {
             "outlinewidth": 0,
             "ticks": ""
            },
            "colorscale": [
             [
              0,
              "#0d0887"
             ],
             [
              0.1111111111111111,
              "#46039f"
             ],
             [
              0.2222222222222222,
              "#7201a8"
             ],
             [
              0.3333333333333333,
              "#9c179e"
             ],
             [
              0.4444444444444444,
              "#bd3786"
             ],
             [
              0.5555555555555556,
              "#d8576b"
             ],
             [
              0.6666666666666666,
              "#ed7953"
             ],
             [
              0.7777777777777778,
              "#fb9f3a"
             ],
             [
              0.8888888888888888,
              "#fdca26"
             ],
             [
              1,
              "#f0f921"
             ]
            ],
            "type": "heatmap"
           }
          ],
          "histogram": [
           {
            "marker": {
             "pattern": {
              "fillmode": "overlay",
              "size": 10,
              "solidity": 0.2
             }
            },
            "type": "histogram"
           }
          ],
          "histogram2d": [
           {
            "colorbar": {
             "outlinewidth": 0,
             "ticks": ""
            },
            "colorscale": [
             [
              0,
              "#0d0887"
             ],
             [
              0.1111111111111111,
              "#46039f"
             ],
             [
              0.2222222222222222,
              "#7201a8"
             ],
             [
              0.3333333333333333,
              "#9c179e"
             ],
             [
              0.4444444444444444,
              "#bd3786"
             ],
             [
              0.5555555555555556,
              "#d8576b"
             ],
             [
              0.6666666666666666,
              "#ed7953"
             ],
             [
              0.7777777777777778,
              "#fb9f3a"
             ],
             [
              0.8888888888888888,
              "#fdca26"
             ],
             [
              1,
              "#f0f921"
             ]
            ],
            "type": "histogram2d"
           }
          ],
          "histogram2dcontour": [
           {
            "colorbar": {
             "outlinewidth": 0,
             "ticks": ""
            },
            "colorscale": [
             [
              0,
              "#0d0887"
             ],
             [
              0.1111111111111111,
              "#46039f"
             ],
             [
              0.2222222222222222,
              "#7201a8"
             ],
             [
              0.3333333333333333,
              "#9c179e"
             ],
             [
              0.4444444444444444,
              "#bd3786"
             ],
             [
              0.5555555555555556,
              "#d8576b"
             ],
             [
              0.6666666666666666,
              "#ed7953"
             ],
             [
              0.7777777777777778,
              "#fb9f3a"
             ],
             [
              0.8888888888888888,
              "#fdca26"
             ],
             [
              1,
              "#f0f921"
             ]
            ],
            "type": "histogram2dcontour"
           }
          ],
          "mesh3d": [
           {
            "colorbar": {
             "outlinewidth": 0,
             "ticks": ""
            },
            "type": "mesh3d"
           }
          ],
          "parcoords": [
           {
            "line": {
             "colorbar": {
              "outlinewidth": 0,
              "ticks": ""
             }
            },
            "type": "parcoords"
           }
          ],
          "pie": [
           {
            "automargin": true,
            "type": "pie"
           }
          ],
          "scatter": [
           {
            "fillpattern": {
             "fillmode": "overlay",
             "size": 10,
             "solidity": 0.2
            },
            "type": "scatter"
           }
          ],
          "scatter3d": [
           {
            "line": {
             "colorbar": {
              "outlinewidth": 0,
              "ticks": ""
             }
            },
            "marker": {
             "colorbar": {
              "outlinewidth": 0,
              "ticks": ""
             }
            },
            "type": "scatter3d"
           }
          ],
          "scattercarpet": [
           {
            "marker": {
             "colorbar": {
              "outlinewidth": 0,
              "ticks": ""
             }
            },
            "type": "scattercarpet"
           }
          ],
          "scattergeo": [
           {
            "marker": {
             "colorbar": {
              "outlinewidth": 0,
              "ticks": ""
             }
            },
            "type": "scattergeo"
           }
          ],
          "scattergl": [
           {
            "marker": {
             "colorbar": {
              "outlinewidth": 0,
              "ticks": ""
             }
            },
            "type": "scattergl"
           }
          ],
          "scattermap": [
           {
            "marker": {
             "colorbar": {
              "outlinewidth": 0,
              "ticks": ""
             }
            },
            "type": "scattermap"
           }
          ],
          "scattermapbox": [
           {
            "marker": {
             "colorbar": {
              "outlinewidth": 0,
              "ticks": ""
             }
            },
            "type": "scattermapbox"
           }
          ],
          "scatterpolar": [
           {
            "marker": {
             "colorbar": {
              "outlinewidth": 0,
              "ticks": ""
             }
            },
            "type": "scatterpolar"
           }
          ],
          "scatterpolargl": [
           {
            "marker": {
             "colorbar": {
              "outlinewidth": 0,
              "ticks": ""
             }
            },
            "type": "scatterpolargl"
           }
          ],
          "scatterternary": [
           {
            "marker": {
             "colorbar": {
              "outlinewidth": 0,
              "ticks": ""
             }
            },
            "type": "scatterternary"
           }
          ],
          "surface": [
           {
            "colorbar": {
             "outlinewidth": 0,
             "ticks": ""
            },
            "colorscale": [
             [
              0,
              "#0d0887"
             ],
             [
              0.1111111111111111,
              "#46039f"
             ],
             [
              0.2222222222222222,
              "#7201a8"
             ],
             [
              0.3333333333333333,
              "#9c179e"
             ],
             [
              0.4444444444444444,
              "#bd3786"
             ],
             [
              0.5555555555555556,
              "#d8576b"
             ],
             [
              0.6666666666666666,
              "#ed7953"
             ],
             [
              0.7777777777777778,
              "#fb9f3a"
             ],
             [
              0.8888888888888888,
              "#fdca26"
             ],
             [
              1,
              "#f0f921"
             ]
            ],
            "type": "surface"
           }
          ],
          "table": [
           {
            "cells": {
             "fill": {
              "color": "#EBF0F8"
             },
             "line": {
              "color": "white"
             }
            },
            "header": {
             "fill": {
              "color": "#C8D4E3"
             },
             "line": {
              "color": "white"
             }
            },
            "type": "table"
           }
          ]
         },
         "layout": {
          "annotationdefaults": {
           "arrowcolor": "#2a3f5f",
           "arrowhead": 0,
           "arrowwidth": 1
          },
          "autotypenumbers": "strict",
          "coloraxis": {
           "colorbar": {
            "outlinewidth": 0,
            "ticks": ""
           }
          },
          "colorscale": {
           "diverging": [
            [
             0,
             "#8e0152"
            ],
            [
             0.1,
             "#c51b7d"
            ],
            [
             0.2,
             "#de77ae"
            ],
            [
             0.3,
             "#f1b6da"
            ],
            [
             0.4,
             "#fde0ef"
            ],
            [
             0.5,
             "#f7f7f7"
            ],
            [
             0.6,
             "#e6f5d0"
            ],
            [
             0.7,
             "#b8e186"
            ],
            [
             0.8,
             "#7fbc41"
            ],
            [
             0.9,
             "#4d9221"
            ],
            [
             1,
             "#276419"
            ]
           ],
           "sequential": [
            [
             0,
             "#0d0887"
            ],
            [
             0.1111111111111111,
             "#46039f"
            ],
            [
             0.2222222222222222,
             "#7201a8"
            ],
            [
             0.3333333333333333,
             "#9c179e"
            ],
            [
             0.4444444444444444,
             "#bd3786"
            ],
            [
             0.5555555555555556,
             "#d8576b"
            ],
            [
             0.6666666666666666,
             "#ed7953"
            ],
            [
             0.7777777777777778,
             "#fb9f3a"
            ],
            [
             0.8888888888888888,
             "#fdca26"
            ],
            [
             1,
             "#f0f921"
            ]
           ],
           "sequentialminus": [
            [
             0,
             "#0d0887"
            ],
            [
             0.1111111111111111,
             "#46039f"
            ],
            [
             0.2222222222222222,
             "#7201a8"
            ],
            [
             0.3333333333333333,
             "#9c179e"
            ],
            [
             0.4444444444444444,
             "#bd3786"
            ],
            [
             0.5555555555555556,
             "#d8576b"
            ],
            [
             0.6666666666666666,
             "#ed7953"
            ],
            [
             0.7777777777777778,
             "#fb9f3a"
            ],
            [
             0.8888888888888888,
             "#fdca26"
            ],
            [
             1,
             "#f0f921"
            ]
           ]
          },
          "colorway": [
           "#636efa",
           "#EF553B",
           "#00cc96",
           "#ab63fa",
           "#FFA15A",
           "#19d3f3",
           "#FF6692",
           "#B6E880",
           "#FF97FF",
           "#FECB52"
          ],
          "font": {
           "color": "#2a3f5f"
          },
          "geo": {
           "bgcolor": "white",
           "lakecolor": "white",
           "landcolor": "#E5ECF6",
           "showlakes": true,
           "showland": true,
           "subunitcolor": "white"
          },
          "hoverlabel": {
           "align": "left"
          },
          "hovermode": "closest",
          "mapbox": {
           "style": "light"
          },
          "paper_bgcolor": "white",
          "plot_bgcolor": "#E5ECF6",
          "polar": {
           "angularaxis": {
            "gridcolor": "white",
            "linecolor": "white",
            "ticks": ""
           },
           "bgcolor": "#E5ECF6",
           "radialaxis": {
            "gridcolor": "white",
            "linecolor": "white",
            "ticks": ""
           }
          },
          "scene": {
           "xaxis": {
            "backgroundcolor": "#E5ECF6",
            "gridcolor": "white",
            "gridwidth": 2,
            "linecolor": "white",
            "showbackground": true,
            "ticks": "",
            "zerolinecolor": "white"
           },
           "yaxis": {
            "backgroundcolor": "#E5ECF6",
            "gridcolor": "white",
            "gridwidth": 2,
            "linecolor": "white",
            "showbackground": true,
            "ticks": "",
            "zerolinecolor": "white"
           },
           "zaxis": {
            "backgroundcolor": "#E5ECF6",
            "gridcolor": "white",
            "gridwidth": 2,
            "linecolor": "white",
            "showbackground": true,
            "ticks": "",
            "zerolinecolor": "white"
           }
          },
          "shapedefaults": {
           "line": {
            "color": "#2a3f5f"
           }
          },
          "ternary": {
           "aaxis": {
            "gridcolor": "white",
            "linecolor": "white",
            "ticks": ""
           },
           "baxis": {
            "gridcolor": "white",
            "linecolor": "white",
            "ticks": ""
           },
           "bgcolor": "#E5ECF6",
           "caxis": {
            "gridcolor": "white",
            "linecolor": "white",
            "ticks": ""
           }
          },
          "title": {
           "x": 0.05
          },
          "xaxis": {
           "automargin": true,
           "gridcolor": "white",
           "linecolor": "white",
           "ticks": "",
           "title": {
            "standoff": 15
           },
           "zerolinecolor": "white",
           "zerolinewidth": 2
          },
          "yaxis": {
           "automargin": true,
           "gridcolor": "white",
           "linecolor": "white",
           "ticks": "",
           "title": {
            "standoff": 15
           },
           "zerolinecolor": "white",
           "zerolinewidth": 2
          }
         }
        },
        "xaxis": {
         "anchor": "y",
         "domain": [
          0,
          1
         ],
         "title": {
          "text": "Date"
         }
        },
        "yaxis": {
         "anchor": "x",
         "domain": [
          0,
          1
         ],
         "title": {
          "text": "country_winners"
         }
        }
       }
      }
     },
     "metadata": {},
     "output_type": "display_data"
    }
   ],
   "source": [
    "fig= px.line(df_subset, x=\"Date\", y=\"country_winners\", color= \"country\")\n",
    "fig.show()"
   ]
  },
  {
   "cell_type": "markdown",
   "metadata": {},
   "source": [
    "**Type your brief description here**"
   ]
  },
  {
   "cell_type": "markdown",
   "metadata": {},
   "source": [
    "This graph shows that the number of winners for each nation follows a similar pattern over time. The number of winner's in france is consistently greater that the number of winners in Belgium.\n",
    "\n",
    "It is interesting that the two countries have the same peaks and troughs and also that France has a consistent amount more winners than Belgium. This is likely due to the difference in lottery-ticket buying population."
   ]
  }
 ],
 "metadata": {
  "kernelspec": {
   "display_name": "Python 3",
   "language": "python",
   "name": "python3"
  },
  "language_info": {
   "codemirror_mode": {
    "name": "ipython",
    "version": 3
   },
   "file_extension": ".py",
   "mimetype": "text/x-python",
   "name": "python",
   "nbconvert_exporter": "python",
   "pygments_lexer": "ipython3",
   "version": "3.12.3"
  }
 },
 "nbformat": 4,
 "nbformat_minor": 4
}
