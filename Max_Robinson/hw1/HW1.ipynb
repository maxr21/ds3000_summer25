{
 "cells": [
  {
   "cell_type": "markdown",
   "metadata": {},
   "source": [
    "# DS 3000 HW 1"
   ]
  },
  {
   "cell_type": "markdown",
   "metadata": {},
   "source": [
    "Due: Tuesday May 20 @ 11:59 PM EST\n",
    "\n",
    "### Submission Instructions\n",
    "Upload this `ipynb` file to GitHub, and then to Gradescope.  To ensure that your submitted `ipynb` file represents your latest code, make sure to give a fresh `Kernel > Restart & Run All` just before uploading the `ipynb` file to GitHub and verify that the correct version is represented on Gradescope.\n",
    "\n",
    "### Tips for success\n",
    "- Start early\n",
    "- Make use of Slack\n",
    "- Remember to use cells, headings and markdown to make the notebook easy to read (if I can't find the answer to a problem, you will receive no points for it)\n",
    "- Collaborate: bounce ideas off of each other, if you are having trouble you can ask your classmates or Dr. Gerber for help with specific issues, however...\n",
    "- [(See)](http://www.northeastern.edu/osccr/academic-integrity), i.e. you are welcome to **talk about/discuss** (*not* show or allow each other to copy your answers to) the problems."
   ]
  },
  {
   "cell_type": "markdown",
   "metadata": {},
   "source": [
    "# Part 1: Sunrise-Sunset API\n",
    "\n",
    "This first part of the homework asks you to complete the pipeline which, given the lattitude / longitude and timezone of some cities; Boston (where we usually are), Leuven (where we actually are), and Sydney (where the other Khoury Dialogue is):\n",
    "\n",
    "``` python\n",
    "loc_dict = {'Boston': (42.3601, -71.0589, 'US/Eastern'),\n",
    "            'Leuven': (50.8823, 4.7138, 'Europe/Brussels'),\n",
    "            'Sydney': (-33.8688, 151.2093, 'Australia/Sydney')}\n",
    "```\n",
    "\n",
    "the keys are the `name` of the city and the values are tuples of `lat`, `lon`, `timezone_name`\n",
    "\n",
    "is able to:\n",
    "- query a sunrise / sunset API\n",
    "- clean and process data (timezone management & building `datetime` objects)\n",
    "- produce the a graph of daylight through the year like this:\n",
    "\n",
    "<img src=\"https://i.ibb.co/BVVSs51J/hw1-image.png\" alt=\"hw1-image\" style=\"width: 500px;\"/>"
   ]
  },
  {
   "cell_type": "markdown",
   "metadata": {},
   "source": [
    "## Part 1.1: Getting Sunrise Sunset via API (20 points)\n",
    "Write the `get_sunrise_sunset()` function below so that it uses [this sunrise sunset API](https://sunrise-sunset.org/api) to produce the output (the dictionary) shown in the test case below so that it passes the case.\n",
    "\n",
    "It may be helpful to know that this particular API...\n",
    "- requires no api key\n",
    "- returns about 2.5 queries per second\n",
    "- did not block me when I tried to make 100 consecutive calls as quickly as possible"
   ]
  },
  {
   "cell_type": "code",
   "execution_count": 1,
   "metadata": {},
   "outputs": [],
   "source": [
    "# make sure you have these modules installed\n",
    "import requests\n",
    "import json"
   ]
  },
  {
   "cell_type": "code",
   "execution_count": 2,
   "metadata": {},
   "outputs": [
    {
     "data": {
      "text/plain": [
       "{'results': {'sunrise': '3:42:26 AM',\n",
       "  'sunset': '7:32:59 PM',\n",
       "  'solar_noon': '11:37:42 AM',\n",
       "  'day_length': '15:50:33',\n",
       "  'civil_twilight_begin': '3:02:38 AM',\n",
       "  'civil_twilight_end': '8:12:46 PM',\n",
       "  'nautical_twilight_begin': '2:04:57 AM',\n",
       "  'nautical_twilight_end': '9:10:28 PM',\n",
       "  'astronomical_twilight_begin': '12:32:47 AM',\n",
       "  'astronomical_twilight_end': '10:42:37 PM'},\n",
       " 'status': 'OK',\n",
       " 'tzid': 'UTC',\n",
       " 'lat-lng': (50.8823, 4.7138),\n",
       " 'date': '2025-05-20'}"
      ]
     },
     "execution_count": 2,
     "metadata": {},
     "output_type": "execute_result"
    }
   ],
   "source": [
    "# make sure to write a good docstring! I will do this for you for the other functions in this homework, but you should practice here!\n",
    "def get_sunrise_sunset(lat, lng, date=\"today\"):\n",
    "    \"\"\" returns a dictionary containing the sun rise and sun set data from the provided latitude, longitude and date\n",
    "\n",
    "        Args:\n",
    "            lat (float): latitude of the desired location\n",
    "            lng (float): longitude of the desired location\n",
    "            date (string): date in the format of yyyy-mm-dd\n",
    "\n",
    "        Returns:\n",
    "            sunrise_dict (dictionary): dictionary containing all information loaded from the sun rise and sun set API\n",
    "    \"\"\"\n",
    "    url = f\"https://api.sunrise-sunset.org/json?lat={lat}&lng={lng}&date={date}\"\n",
    "    raw_data = requests.get(url).text\n",
    "    data_dict = json.loads(raw_data)\n",
    "    data_dict['lat-lng'] = (lat, lng)\n",
    "    data_dict['date'] = date\n",
    "    return data_dict\n",
    "\n",
    "get_sunrise_sunset(lat=50.8823, lng=4.7138, date='2025-05-20')"
   ]
  },
  {
   "cell_type": "code",
   "execution_count": 3,
   "metadata": {},
   "outputs": [],
   "source": [
    "sun_dict = get_sunrise_sunset(lat=50.8823, lng=4.7138, date='2025-05-20')\n",
    "# Note; I ran this and created this sun_dict_expected on May 9th\n",
    "# It is possible some of the results have changed since then\n",
    "# If the print(sun_dict) looks very close to the sun_dict_expected below\n",
    "# Let me know and I'll verify whether I need to change something\n",
    "sun_dict_expected = \\\n",
    "{'results': {'sunrise': '3:42:26 AM',\n",
    "  'sunset': '7:32:59 PM',\n",
    "  'solar_noon': '11:37:42 AM',\n",
    "  'day_length': '15:50:33',\n",
    "  'civil_twilight_begin': '3:02:38 AM',\n",
    "  'civil_twilight_end': '8:12:46 PM',\n",
    "  'nautical_twilight_begin': '2:04:57 AM',\n",
    "  'nautical_twilight_end': '9:10:28 PM',\n",
    "  'astronomical_twilight_begin': '12:32:47 AM',\n",
    "  'astronomical_twilight_end': '10:42:37 PM'},\n",
    " 'status': 'OK',\n",
    " 'tzid': 'UTC',\n",
    " 'lat-lng': (50.8823, 4.7138),\n",
    " 'date': '2025-05-20'}\n",
    "\n",
    "# print(sun_dict)\n",
    "\n",
    "assert sun_dict == sun_dict_expected, 'get_sunrise_sunset() error'"
   ]
  },
  {
   "cell_type": "markdown",
   "metadata": {},
   "source": [
    "## Part 1.2 Timezone Considerations: (20 points)\n",
    "\n",
    "It may appear the test case above works, but a look at the API's documentation reminds us: \n",
    "\n",
    "    \"NOTE: All times are in UTC and summer time adjustments are not included in the returned data.\"\n",
    "    \n",
    "Meaning that we would need to change the timezone ourself if comparing different locations. \n",
    "\n",
    "Complete the `change_tz()` below so that it passes the given test case. You may want to investigate the [.astimezone function](https://pandas.pydata.org/docs/reference/api/pandas.Timestamp.astimezone.html)."
   ]
  },
  {
   "cell_type": "code",
   "execution_count": 4,
   "metadata": {},
   "outputs": [],
   "source": [
    "# you will need these\n",
    "import pytz\n",
    "from datetime import datetime"
   ]
  },
  {
   "cell_type": "code",
   "execution_count": 5,
   "metadata": {},
   "outputs": [
    {
     "data": {
      "text/plain": [
       "datetime.datetime(2025, 1, 1, 3, 0, tzinfo=<DstTzInfo 'Europe/Brussels' CET+1:00:00 STD>)"
      ]
     },
     "execution_count": 5,
     "metadata": {},
     "output_type": "execute_result"
    }
   ],
   "source": [
    "# I have started the function for you\n",
    "def change_tz(dt, timezone_from, timezone_to):\n",
    "    \"\"\" converts timezone of a timezone naive datetime object\n",
    "    \n",
    "    Args:\n",
    "        dt (datetime): datetime (or time) object without timezone\n",
    "        timezone_from (str): timezone of input\n",
    "        timezone_to (str): timezone of output datetime\n",
    "        \n",
    "    Returns:\n",
    "        dt (datetime): datetime object corresponding to \n",
    "            unix_time\n",
    "    \"\"\"\n",
    "    \n",
    "    dt_from = pytz.timezone(timezone_from).localize(dt)\n",
    "    dt_to = dt_from.astimezone(pytz.timezone(timezone_to))\n",
    "\n",
    "    return dt_to\n",
    "\n",
    "change_tz(datetime(2025, 1, 1, 2), 'GMT', 'Europe/Brussels')"
   ]
  },
  {
   "cell_type": "code",
   "execution_count": 6,
   "metadata": {},
   "outputs": [],
   "source": [
    "# build test case input / output \n",
    "#Brussels time\n",
    "dt_no_tz = datetime(2025, 8, 15, 16, 23, 42, 270088)\n",
    "#Converted to GMT should be two hours less (during August, due to daylight savings)\n",
    "dt_expect = datetime(2025, 8, 15, 14, 23, 42, 270088, tzinfo=pytz.timezone('GMT')) \n",
    "\n",
    "# compute actual output\n",
    "dt = change_tz(dt_no_tz, timezone_from='Europe/Brussels', timezone_to='GMT')\n",
    "\n",
    "assert dt == dt_expect, 'change_tz() error'"
   ]
  },
  {
   "cell_type": "markdown",
   "metadata": {},
   "source": [
    "## Part 1.3: Turning the dictionary into a Series (20 points)\n",
    "Build `clean_sun_dict()` to pass each of the two test cases below.  Note that:\n",
    "- sunrise and sunset are `time` objects which account for daylight's saving:\n",
    "    - include the date when building these objects\n",
    "    - use `change_tz()` above to cast them to the proper timezone\n",
    "    - build `time` objects by calling `datetime.time()` to discard the date of a `datetime`\n",
    "    - importing `pandas as pd` and using `pd.to_datetime` may also be helpful\n",
    "- `sunrise_hr` and `sunset_hr` are the hours since the day began in local timezone (more easily graphed)\n",
    "    - you may use `.strftime()` and `int()` to cast time objects to strings and then integers (which may be helpful) \n",
    "    \n",
    "**NOTE:** There may be more than one way to accomplish writing this function; as long as the function passes both `assert` test cases, you may continue. Just do be sure to comment and present your code as cleanly as possible. **NOTE ALSO** that because of the way *I* made the solution, the `sunrise_hr` and `sunset_hr` values are rounded strangely. If you are getting something *close*, you **may** change the test case to match your so that the `assert` works."
   ]
  },
  {
   "cell_type": "code",
   "execution_count": 7,
   "metadata": {},
   "outputs": [],
   "source": [
    "from datetime import datetime, time\n",
    "import pandas as pd\n",
    "from pandas import testing as tm"
   ]
  },
  {
   "cell_type": "code",
   "execution_count": 8,
   "metadata": {},
   "outputs": [],
   "source": [
    "def clean_sun_dict(sun_dict, timezone_to):\n",
    "    \"\"\" builds pandas series and cleans output of API\n",
    "    \n",
    "    Args:\n",
    "        sun_dict (dict): dict of json (see ex below)\n",
    "        timezone_to (str): timezone of outputs (API returns\n",
    "            UTC times)\n",
    "            \n",
    "    Returns:\n",
    "        sun_series (pd.Series): all times converted to\n",
    "            time objects\n",
    "    \n",
    "    example sun_series:\n",
    "    \n",
    "    date            2021-02-13 00:00:00\n",
    "    lat-lng        (36.72016, -4.42034)\n",
    "    sunrise                    02:11:06\n",
    "    sunrise_hr                    2.185\n",
    "    sunset                     13:00:34\n",
    "    sunset_hr                   13.0094\n",
    "    dtype: object\n",
    "    \"\"\"\n",
    "\n",
    "    # dictionary of only relevant columns and with desired format\n",
    "    cleaned_dict = {}\n",
    "\n",
    "    # holds the sub dictionary called results\n",
    "    results_dict = sun_dict['results']\n",
    "\n",
    "    # sets the date to date object\n",
    "    cleaned_dict['date'] = datetime.strptime(sun_dict['date'], \"%Y-%m-%d\")\n",
    "    # sets the lat-lng field\n",
    "    cleaned_dict['lat-lng'] = sun_dict['lat-lng']\n",
    "\n",
    "    # takes the number in results_dict['sunrise'] and removes the AM or PM part afterwards by splitting along the regex \" \"\n",
    "    # i.e. from '3:42:26 AM' to '3:42:26'\n",
    "    #sunrise_time_str = results_dict['sunrise'].split(\" \")[0]\n",
    "    sunrise_time = datetime.strptime(results_dict['sunrise'] + \" \" + sun_dict['date'], \"%I:%M:%S %p %Y-%m-%d\")\n",
    "    tz_adjusted_sunrise = change_tz(sunrise_time, 'GMT', timezone_to)\n",
    "\n",
    "    sunset_time = datetime.strptime(results_dict['sunset'] + \" \" + sun_dict['date'], \"%I:%M:%S %p %Y-%m-%d\")\n",
    "    tz_adjusted_sunset = change_tz(sunset_time, 'GMT', timezone_to)\n",
    "\n",
    "    cleaned_dict['sunrise'] = tz_adjusted_sunrise.time()\n",
    "\n",
    "    # list containing [hours, minute, second] of the time in seconds\n",
    "    # sunrise_time_list = sunrise_time_str.split(\":\")\n",
    "    # sunset_time_list = sunset_time_str.split(\":\")\n",
    "\n",
    "    # exact hour since 00:00 that the sun will rise\n",
    "    # sunrise_time = int(sunrise_time_list[0]) + int(sunrise_time_list[1])/60 + int(sunrise_time_list[2])/3600\n",
    "\n",
    "    # exact hour since 00:00 that the sun will set\n",
    "    # sunset_time = int(sunset_time_list[0]) + int(sunset_time_list[1])/60 + int(sunset_time_list[2])/3600\n",
    "    sunrise_hr = tz_adjusted_sunrise.time()\n",
    "    sunset_hr = tz_adjusted_sunset.time()\n",
    "    cleaned_dict['sunrise_hr'] = sunrise_hr.hour + sunrise_hr.minute/60 + sunrise_hr.second/3600\n",
    "    cleaned_dict['sunset'] = tz_adjusted_sunset.time()\n",
    "    cleaned_dict['sunset_hr'] = sunset_hr.hour + sunset_hr.minute/60 + sunset_hr.second/3600\n",
    "\n",
    "    sun_series = pd.Series(cleaned_dict)\n",
    "\n",
    "    return sun_series"
   ]
  },
  {
   "cell_type": "code",
   "execution_count": 9,
   "metadata": {},
   "outputs": [
    {
     "name": "stdout",
     "output_type": "stream",
     "text": [
      "date          2025-05-20 00:00:00\n",
      "lat-lng         (50.8823, 4.7138)\n",
      "sunrise                  03:42:26\n",
      "sunrise_hr               3.707222\n",
      "sunset                   19:32:59\n",
      "sunset_hr               19.549722\n",
      "dtype: object\n"
     ]
    }
   ],
   "source": [
    "sun_dict = {'results': {'sunrise': '3:42:26 AM',\n",
    "  'sunset': '7:32:59 PM',\n",
    "  'solar_noon': '11:37:42 AM',\n",
    "  'day_length': '15:50:33',\n",
    "  'civil_twilight_begin': '3:02:38 AM',\n",
    "  'civil_twilight_end': '8:12:46 PM',\n",
    "  'nautical_twilight_begin': '2:04:57 AM',\n",
    "  'nautical_twilight_end': '9:10:28 PM',\n",
    "  'astronomical_twilight_begin': '12:32:47 AM',\n",
    "  'astronomical_twilight_end': '10:42:37 PM'},\n",
    " 'status': 'OK',\n",
    " 'tzid': 'UTC',\n",
    " 'lat-lng': (50.8823, 4.7138),\n",
    " 'date': '2025-05-20'}\n",
    "\n",
    "# test without timezone conversion\n",
    "sun_series = clean_sun_dict(sun_dict, timezone_to='GMT')\n",
    "\n",
    "print(sun_series)\n",
    "\n",
    "sun_series_exp = pd.Series(\n",
    "{'date': datetime(year=2025, month=5, day=20),\n",
    "'lat-lng': (50.8823, 4.7138),\n",
    "'sunrise': time(hour=3, minute=42, second=26),\n",
    "'sunrise_hr': 3.707222,\n",
    "'sunset': time(hour=19, minute=32, second=59),\n",
    "'sunset_hr': 19.549722})\n",
    "\n",
    "tm.assert_series_equal(sun_series, sun_series_exp)"
   ]
  },
  {
   "cell_type": "code",
   "execution_count": 10,
   "metadata": {},
   "outputs": [],
   "source": [
    "# test with timezone conversion\n",
    "sun_series = clean_sun_dict(sun_dict, timezone_to='Europe/Brussels',)\n",
    "\n",
    "sun_series_exp = pd.Series(\n",
    "{'date': datetime(year=2025, month=5, day=20),\n",
    "'lat-lng': (50.8823, 4.7138),\n",
    "'sunrise': time(hour=5, minute=42, second=26),\n",
    "'sunrise_hr': 5.707222,\n",
    "'sunset': time(hour=21, minute=32, second=59),\n",
    "'sunset_hr': 21.549722})\n",
    "\n",
    "tm.assert_series_equal(sun_series, sun_series_exp)"
   ]
  },
  {
   "cell_type": "markdown",
   "metadata": {},
   "source": [
    "## Part 1.4: Getting our Data Frame (20 points)\n",
    "\n",
    "Write the `get_annual_sun_data()` function so that it produces the outputs shown below.  This function should make use of:\n",
    " - `get_sunrise_sunset()`\n",
    " - `clean_sun_dict()`\n",
    "   \n",
    "as built above. I will start the function for you to help!"
   ]
  },
  {
   "cell_type": "markdown",
   "metadata": {},
   "source": [
    "For example, the following snippet (I left it as 2021, but you'll do 2024):\n",
    "\n",
    "```python\n",
    "loc_dict = {'Boston': (42.3601, -71.0589, 'US/Eastern'),\n",
    "            'Leuven': (50.8823, 4.7138, 'Europe/Brussels'),\n",
    "            'Sydney': (-33.8688, 151.2093, 'Australia/Sydney')}\n",
    "df_annual_sun = get_annual_sun_data(loc_dict, year=2021, period_day=30)\n",
    "df_annual_sun.head(6)\n",
    "```\n",
    "\n",
    "should generate:\n",
    "\n",
    "|    |   city |       date |              lat-lng |  sunrise | sunrise_hr |   sunset | sunset_hr |\n",
    "|---:|-------:|-----------:|---------------------:|---------:|-----------:|---------:|----------:|\n",
    "|  0 | Boston | 2021-01-01 |  (42.3601, -71.0589) | 07:11:49 |   7.196944 | 16:24:12 | 16.403333 |\n",
    "|  1 | Leuven | 2021-01-01 |  (50.8823, 4.7138)   | 08:41:35 |   8.693056 | 16:48:03 | 16.800833 |\n",
    "|  2 | Sydney | 2021-01-01 | (-33.8688, 151.2093) | 05:46:24 |   5.773333 | 20:10:53 | 20.181389 |\n",
    "|  3 | Boston | 2021-01-31 |  (42.3601, -71.0589) | 06:56:43 |   6.945278 | 16:58:42 | 16.978333 |\n",
    "|  4 | Leuven | 2021-01-31 |  (50.8823, 4.7138)   | 08:16:27 |   8.274167 | 17:32:44 | 17.545556 |\n",
    "|  5 | Sydney | 2021-01-31 | (-33.8688, 151.2093) | 06:14:24 |   6.240000 | 20:02:42 | 20.045000 |"
   ]
  },
  {
   "cell_type": "code",
   "execution_count": 11,
   "metadata": {},
   "outputs": [],
   "source": [
    "# could be useful\n",
    "from datetime import timedelta"
   ]
  },
  {
   "cell_type": "code",
   "execution_count": 12,
   "metadata": {},
   "outputs": [],
   "source": [
    "def get_annual_sun_data(loc_dict, year=2024, period_day=30): \n",
    "    \"\"\" pulls evenly spaced sunrise / sunsets from API over year per city\n",
    "    \n",
    "    Args:\n",
    "        loc_dict (dict): keys are cities, values are tuples of \n",
    "            (lat, lon, tz_str) where tz_str is a timezone\n",
    "            string included in pytz.all_timezones\n",
    "        year (int): year to query\n",
    "        period_day (int): how many days between data queries\n",
    "            (i.e. period_day=1 will get every day for the year)\n",
    "            \n",
    "    Returns:\n",
    "        df_annual_sun (DataFrame): each row represents a \n",
    "            sunrise / sunset datapoint, see get_sunrise_sunset()\n",
    "    \"\"\"\n",
    "    # datetime object\n",
    "    cycle_day = pd.to_datetime(f'{year}-01-01')\n",
    "    # list of city names\n",
    "    cycle_city = loc_dict.keys()\n",
    "\n",
    "    sun_df = pd.DataFrame()\n",
    "    # through all days in the year\n",
    "    while cycle_day.year == year:\n",
    "        # for each city\n",
    "        for city in cycle_city:\n",
    "            city_series = pd.Series({'city' : city})\n",
    "            # unpacks the location dictionary into the lat lng and tz of the current city\n",
    "            lat = loc_dict[city][0]\n",
    "            lng = loc_dict[city][1]\n",
    "            tz = loc_dict[city][2]\n",
    "\n",
    "            # returns dictionary for the given lat, lng and day in str\n",
    "            sun_dict = get_sunrise_sunset(lat, lng, str(cycle_day.date()))\n",
    "            sun_series = clean_sun_dict(sun_dict, tz)\n",
    "            sun_series = pd.concat([city_series, sun_series])\n",
    "            #print(sun_series)\n",
    "\n",
    "            # adds the new \n",
    "            sun_df = pd.concat([sun_df, sun_series.to_frame().T])         \n",
    "            \n",
    "        cycle_day = cycle_day + timedelta(days=period_day)\n",
    "\n",
    "    \n",
    "        \n",
    "    # remove the pass below and include a return statement\n",
    "    return sun_df"
   ]
  },
  {
   "cell_type": "code",
   "execution_count": 13,
   "metadata": {},
   "outputs": [],
   "source": [
    "loc_dict = {'Boston': (42.3601, -71.0589, 'US/Eastern'),\n",
    "            'Leuven': (50.8823, 4.7138, 'Europe/Brussels'),\n",
    "            'Sydney': (-33.8688, 151.2093, 'Australia/Sydney')}\n",
    "\n",
    "# you may find that setting period_day to a larger value is quicker for debug\n",
    "# period_day=5 takes about a minute or so given the API does 2-3 requests / sec\n",
    "# the below is 2021 just to verify the table presented above; you'll use 2024 in the next part\n",
    "# (there's also always a chance I misstyped one or two of those table entries; you can verify with me)\n",
    "#get_annual_sun_data(loc_dict, year=2021, period_day=30)\n",
    "df_annual_sun = get_annual_sun_data(loc_dict, year=2021, period_day=30)"
   ]
  },
  {
   "cell_type": "code",
   "execution_count": 14,
   "metadata": {},
   "outputs": [
    {
     "data": {
      "text/html": [
       "<div>\n",
       "<style scoped>\n",
       "    .dataframe tbody tr th:only-of-type {\n",
       "        vertical-align: middle;\n",
       "    }\n",
       "\n",
       "    .dataframe tbody tr th {\n",
       "        vertical-align: top;\n",
       "    }\n",
       "\n",
       "    .dataframe thead th {\n",
       "        text-align: right;\n",
       "    }\n",
       "</style>\n",
       "<table border=\"1\" class=\"dataframe\">\n",
       "  <thead>\n",
       "    <tr style=\"text-align: right;\">\n",
       "      <th></th>\n",
       "      <th>city</th>\n",
       "      <th>date</th>\n",
       "      <th>lat-lng</th>\n",
       "      <th>sunrise</th>\n",
       "      <th>sunrise_hr</th>\n",
       "      <th>sunset</th>\n",
       "      <th>sunset_hr</th>\n",
       "    </tr>\n",
       "  </thead>\n",
       "  <tbody>\n",
       "    <tr>\n",
       "      <th>0</th>\n",
       "      <td>Boston</td>\n",
       "      <td>2021-01-01 00:00:00</td>\n",
       "      <td>(42.3601, -71.0589)</td>\n",
       "      <td>07:11:49</td>\n",
       "      <td>7.196944</td>\n",
       "      <td>16:24:12</td>\n",
       "      <td>16.403333</td>\n",
       "    </tr>\n",
       "    <tr>\n",
       "      <th>0</th>\n",
       "      <td>Leuven</td>\n",
       "      <td>2021-01-01 00:00:00</td>\n",
       "      <td>(50.8823, 4.7138)</td>\n",
       "      <td>08:41:35</td>\n",
       "      <td>8.693056</td>\n",
       "      <td>16:48:03</td>\n",
       "      <td>16.800833</td>\n",
       "    </tr>\n",
       "    <tr>\n",
       "      <th>0</th>\n",
       "      <td>Sydney</td>\n",
       "      <td>2021-01-01 00:00:00</td>\n",
       "      <td>(-33.8688, 151.2093)</td>\n",
       "      <td>05:46:24</td>\n",
       "      <td>5.773333</td>\n",
       "      <td>20:10:53</td>\n",
       "      <td>20.181389</td>\n",
       "    </tr>\n",
       "    <tr>\n",
       "      <th>0</th>\n",
       "      <td>Boston</td>\n",
       "      <td>2021-01-31 00:00:00</td>\n",
       "      <td>(42.3601, -71.0589)</td>\n",
       "      <td>06:56:43</td>\n",
       "      <td>6.945278</td>\n",
       "      <td>16:58:42</td>\n",
       "      <td>16.978333</td>\n",
       "    </tr>\n",
       "    <tr>\n",
       "      <th>0</th>\n",
       "      <td>Leuven</td>\n",
       "      <td>2021-01-31 00:00:00</td>\n",
       "      <td>(50.8823, 4.7138)</td>\n",
       "      <td>08:16:27</td>\n",
       "      <td>8.274167</td>\n",
       "      <td>17:32:44</td>\n",
       "      <td>17.545556</td>\n",
       "    </tr>\n",
       "    <tr>\n",
       "      <th>0</th>\n",
       "      <td>Sydney</td>\n",
       "      <td>2021-01-31 00:00:00</td>\n",
       "      <td>(-33.8688, 151.2093)</td>\n",
       "      <td>06:14:24</td>\n",
       "      <td>6.24</td>\n",
       "      <td>20:02:42</td>\n",
       "      <td>20.045</td>\n",
       "    </tr>\n",
       "  </tbody>\n",
       "</table>\n",
       "</div>"
      ],
      "text/plain": [
       "     city                 date               lat-lng   sunrise sunrise_hr  \\\n",
       "0  Boston  2021-01-01 00:00:00   (42.3601, -71.0589)  07:11:49   7.196944   \n",
       "0  Leuven  2021-01-01 00:00:00     (50.8823, 4.7138)  08:41:35   8.693056   \n",
       "0  Sydney  2021-01-01 00:00:00  (-33.8688, 151.2093)  05:46:24   5.773333   \n",
       "0  Boston  2021-01-31 00:00:00   (42.3601, -71.0589)  06:56:43   6.945278   \n",
       "0  Leuven  2021-01-31 00:00:00     (50.8823, 4.7138)  08:16:27   8.274167   \n",
       "0  Sydney  2021-01-31 00:00:00  (-33.8688, 151.2093)  06:14:24       6.24   \n",
       "\n",
       "     sunset  sunset_hr  \n",
       "0  16:24:12  16.403333  \n",
       "0  16:48:03  16.800833  \n",
       "0  20:10:53  20.181389  \n",
       "0  16:58:42  16.978333  \n",
       "0  17:32:44  17.545556  \n",
       "0  20:02:42     20.045  "
      ]
     },
     "execution_count": 14,
     "metadata": {},
     "output_type": "execute_result"
    }
   ],
   "source": [
    "df_annual_sun.head(6)"
   ]
  },
  {
   "cell_type": "markdown",
   "metadata": {},
   "source": [
    "## Part 1.5: Plotting the data (20 points)\n",
    "\n",
    "Using [plt.fillbetween()](https://matplotlib.org/3.1.1/api/_as_gen/matplotlib.pyplot.fill_between.html), like [this example](https://colab.research.google.com/drive/1eYuuwGwQKEa6x84fqpdVlf46sXLDmhCZ?usp=sharing), write the `plot_daylight()` function so that:\n",
    "\n",
    "``` python\n",
    "plot_daylight(df_annual_sun)\n",
    "```\n",
    "\n",
    "produces a similar graph to:\n",
    "\n",
    "<img src=\"https://i.ibb.co/BVVSs51J/hw1-image.png\" alt=\"hw1-image\" style=\"width: 500px;\"/>\n",
    "\n",
    "Be sure that your graph displays in Jupyter notebook (no need to save it in another form)."
   ]
  },
  {
   "cell_type": "code",
   "execution_count": 15,
   "metadata": {},
   "outputs": [],
   "source": [
    "# modules you might use\n",
    "import seaborn as sns\n",
    "import matplotlib.pyplot as plt"
   ]
  },
  {
   "cell_type": "code",
   "execution_count": null,
   "metadata": {},
   "outputs": [
    {
     "data": {
      "image/png": "[encoded data removed]",
      "text/plain": [
       "<Figure size 640x480 with 1 Axes>"
      ]
     },
     "metadata": {},
     "output_type": "display_data"
    }
   ],
   "source": [
    "def plot_daylight(df_annual_sun):\n",
    "    \"\"\" produces a plot of daylight seen across cities\n",
    "    \n",
    "    Args:\n",
    "        df_annual_sun (DataFrame): each row represents a \n",
    "            sunrise / sunset datapoint, see get_sunrise_sunset()\n",
    "    \"\"\"\n",
    "    #city_list = df_annual_sun['city'].unique()\n",
    "    # Function content here, remove pass\n",
    "    #for city in city_list:\n",
    "        \n",
    "    boston_filter = df_annual_sun['city'] == 'Boston'\n",
    "    df_boston = df_annual_sun.loc[boston_filter]\n",
    "\n",
    "    leuven_filter = df_annual_sun['city'] == 'Leuven'\n",
    "    df_leuven = df_annual_sun.loc[leuven_filter]\n",
    "\n",
    "    sydney_filter = df_annual_sun['city'] == 'Sydney'\n",
    "    df_sydney = df_annual_sun.loc[sydney_filter]\n",
    "\n",
    "    \n",
    "    # plt.plot(df_boston['date'], df_boston['sunset_hr'], color='green')\n",
    "    # plt.plot(df_boston['date'], df_boston['sunrise_hr'], color='green')\n",
    "\n",
    "    plt.title(\"Hours of Sunlight During the Day Across the Year\")\n",
    "    plt.ylabel(\"Hours Since Midnight\")\n",
    "    plt.xlabel(\"Date (yyyy-mm)\")\n",
    "\n",
    "    plt.fill_between(list(df_boston.date), list(df_boston['sunset_hr']), list(df_boston['sunrise_hr']), color = 'green', alpha = 0.2)\n",
    "\n",
    "    plt.fill_between(list(df_leuven.date), list(df_leuven['sunset_hr']), list(df_leuven['sunrise_hr']), color = 'blue', alpha = 0.2)\n",
    "\n",
    "    plt.fill_between(list(df_sydney.date), list(df_sydney['sunset_hr']), list(df_sydney['sunrise_hr']), color = 'red', alpha = 0.2)\n",
    "\n",
    "    plt.legend(['Boston', 'Leuven', 'Sydney'] , loc='center')\n",
    "    plt.tight_layout()\n",
    "    # plt.plot(df_leuven['date'], df_leuven['sunset_hr'], color='blue')\n",
    "    # plt.plot(df_leuven['date'], df_leuven['sunrise_hr'], color='blue')\n",
    "\n",
    "    # plt.plot(df_sydney['date'], df_sydney['sunset_hr'], color='red')\n",
    "    # plt.plot(df_sydney['date'], df_sydney['sunrise_hr'], color='red')\n",
    "    \n",
    "\n",
    "plot_daylight(df_annual_sun)"
   ]
  },
  {
   "cell_type": "code",
   "execution_count": 17,
   "metadata": {},
   "outputs": [],
   "source": [
    "# takes about two minutes to run with period_day=7, worth the wait to characterize\n",
    "# the sudden jumps due to daylight savings times\n",
    "df_annual_sun = get_annual_sun_data(loc_dict, year=2024, period_day=7)"
   ]
  },
  {
   "cell_type": "code",
   "execution_count": 27,
   "metadata": {},
   "outputs": [
    {
     "data": {
      "image/png": "[encoded data removed]",
      "text/plain": [
       "<Figure size 640x480 with 1 Axes>"
      ]
     },
     "metadata": {},
     "output_type": "display_data"
    }
   ],
   "source": [
    "plot_daylight(df_annual_sun)"
   ]
  }
 ],
 "metadata": {
  "kernelspec": {
   "display_name": "Python 3",
   "language": "python",
   "name": "python3"
  },
  "language_info": {
   "codemirror_mode": {
    "name": "ipython",
    "version": 3
   },
   "file_extension": ".py",
   "mimetype": "text/x-python",
   "name": "python",
   "nbconvert_exporter": "python",
   "pygments_lexer": "ipython3",
   "version": "3.12.3"
  }
 },
 "nbformat": 4,
 "nbformat_minor": 4
}
